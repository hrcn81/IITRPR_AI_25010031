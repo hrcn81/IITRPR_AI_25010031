{
  "nbformat": 4,
  "nbformat_minor": 0,
  "metadata": {
    "colab": {
      "private_outputs": true,
      "provenance": [],
      "authorship_tag": "ABX9TyOfGIIRzxQ7Ha6CMJoGJ5/7",
      "include_colab_link": true
    },
    "kernelspec": {
      "name": "python3",
      "display_name": "Python 3"
    },
    "language_info": {
      "name": "python"
    }
  },
  "cells": [
    {
      "cell_type": "markdown",
      "metadata": {
        "id": "view-in-github",
        "colab_type": "text"
      },
      "source": [
        "<a href=\"https://colab.research.google.com/github/hrcn81/IITRPR_AI_25010031/blob/main/W9L3.ipynb\" target=\"_parent\"><img src=\"https://colab.research.google.com/assets/colab-badge.svg\" alt=\"Open In Colab\"/></a>"
      ]
    },
    {
      "cell_type": "code",
      "execution_count": null,
      "metadata": {
        "id": "Ar5vMWN78jSf"
      },
      "outputs": [],
      "source": [
        "# Get the magnitude\n",
        "import numpy as np\n",
        "\n",
        "v1 = np.array([3, 4])\n",
        "magnitude = np.linalg.norm(v1)\n",
        "print(magnitude)"
      ]
    },
    {
      "cell_type": "code",
      "source": [
        "A = np.array([[1, 2], [3, 4]])\n",
        "B = np.array([[5, 6], [7, 8]])\n",
        "\n",
        "print(\"A:\\n\",A)\n",
        "print(\"\\nB:\\n\",B)\n",
        "\n",
        "addition = A + B\n",
        "print(\"\\naddition:\\n\",addition)\n",
        "\n",
        "multiplication = np.dot(A,B)\n",
        "print(\"\\nmultiplication:\\n\",multiplication)\n",
        "\n",
        "transpose_A = np.transpose(A)\n",
        "print(\"\\ntranspose_A:\\n\",transpose_A)"
      ],
      "metadata": {
        "id": "NpIq-1Um9Bkv"
      },
      "execution_count": null,
      "outputs": []
    },
    {
      "cell_type": "code",
      "source": [],
      "metadata": {
        "id": "55Szdh2I9XI2"
      },
      "execution_count": null,
      "outputs": []
    }
  ]
}