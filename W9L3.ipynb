{
  "nbformat": 4,
  "nbformat_minor": 0,
  "metadata": {
    "colab": {
      "private_outputs": true,
      "provenance": [],
      "authorship_tag": "ABX9TyNPzcBeD6LWLl9r8fZYQpBp",
      "include_colab_link": true
    },
    "kernelspec": {
      "name": "python3",
      "display_name": "Python 3"
    },
    "language_info": {
      "name": "python"
    }
  },
  "cells": [
    {
      "cell_type": "markdown",
      "metadata": {
        "id": "view-in-github",
        "colab_type": "text"
      },
      "source": [
        "<a href=\"https://colab.research.google.com/github/hrcn81/IITRPR_AI_25010031/blob/main/W9L3.ipynb\" target=\"_parent\"><img src=\"https://colab.research.google.com/assets/colab-badge.svg\" alt=\"Open In Colab\"/></a>"
      ]
    },
    {
      "cell_type": "code",
      "execution_count": null,
      "metadata": {
        "id": "Ar5vMWN78jSf"
      },
      "outputs": [],
      "source": [
        "# Get the magnitude\n",
        "import numpy as np\n",
        "\n",
        "v1 = np.array([3, 4])\n",
        "magnitude = np.linalg.norm(v1)\n",
        "print(magnitude)"
      ]
    },
    {
      "cell_type": "code",
      "source": [
        "A = np.array([[1, 2], [3, 4]])\n",
        "B = np.array([[5, 6], [7, 8]])\n",
        "\n",
        "print(\"A:\\n\",A)\n",
        "print(\"\\nB:\\n\",B)\n",
        "\n",
        "addition = A + B\n",
        "print(\"\\naddition:\\n\",addition)\n",
        "\n",
        "multiplication = np.dot(A,B)\n",
        "print(\"\\nmultiplication:\\n\",multiplication)\n",
        "\n",
        "transpose_A = np.transpose(A)\n",
        "print(\"\\ntranspose_A:\\n\",transpose_A)\n",
        "\n",
        "rank_A = np.linalg.matrix_rank(A)\n",
        "print(\"\\nrank_A:\",rank_A)\n",
        "\n",
        "inverse_A = np.linalg.inv(A)\n",
        "print(\"\\ninverse_A:\\n\",inverse_A)\n",
        "\n",
        "eigenvalues, eigenvectors = np.linalg.eig(A)\n",
        "print(\"\\neigenvalues:\\n\",eigenvalues)\n",
        "print(\"\\neigenvectors:\\n\",eigenvectors)\n",
        "\n",
        "determinant = np.linalg.det(A)\n",
        "print(\"\\ndeterminant:\",determinant)"
      ],
      "metadata": {
        "id": "NpIq-1Um9Bkv"
      },
      "execution_count": null,
      "outputs": []
    },
    {
      "cell_type": "code",
      "source": [
        "import numpy as np\n",
        "\n",
        "# 1. Create an array\n",
        "arr = np.array([1, 2, 3, 4, 5, 6])\n",
        "print(\"Array Creation:\\n\", arr)\n",
        "\n",
        "matrix = np.arange(1,10).reshape(3,-1)\n",
        "print(\"\\nreshape:\\n\",matrix)\n",
        "\n",
        "flattened = matrix.flatten()\n",
        "print(\"\\nflatten\\n\",flattened)\n",
        "\n",
        "sqrd = arr**2\n",
        "print(\"\\nElement wise squaring:\\n\",sqrd)"
      ],
      "metadata": {
        "id": "55Szdh2I9XI2"
      },
      "execution_count": null,
      "outputs": []
    },
    {
      "cell_type": "code",
      "source": [
        "import pandas as pd\n",
        "\n",
        "data = {'Name': ['Akhil', 'Aryan', 'Aakash', 'Aya'], 'Age': [25, 22, 23, 24], 'City': ['Pune', 'Mumbai', 'Pune', 'Delhi']}\n",
        "\n",
        "print(data)\n",
        "\n",
        "df = pd.DataFrame(data)\n",
        "print(\"\\nDataFrame:\\n\", df)"
      ],
      "metadata": {
        "id": "b_6EONfA_ZAz"
      },
      "execution_count": null,
      "outputs": []
    },
    {
      "cell_type": "code",
      "source": [
        "df.info()"
      ],
      "metadata": {
        "id": "YvSqvof6Cqf_"
      },
      "execution_count": null,
      "outputs": []
    },
    {
      "cell_type": "code",
      "source": [
        "df.describe()"
      ],
      "metadata": {
        "id": "AKCfSqz3DDYw"
      },
      "execution_count": null,
      "outputs": []
    },
    {
      "cell_type": "code",
      "source": [
        "df['Age']"
      ],
      "metadata": {
        "id": "Q12eYd4ZDH0-"
      },
      "execution_count": null,
      "outputs": []
    },
    {
      "cell_type": "code",
      "source": [
        "df['Salary'] = [50000,60000,70000,80000]\n",
        "\n",
        "df"
      ],
      "metadata": {
        "id": "qli5XM2XDM8D"
      },
      "execution_count": null,
      "outputs": []
    },
    {
      "cell_type": "code",
      "source": [
        "filtered_df = df[df['Age'] > 23]\n",
        "\n",
        "filtered_df"
      ],
      "metadata": {
        "id": "lCM44iUSDVSf"
      },
      "execution_count": null,
      "outputs": []
    },
    {
      "cell_type": "code",
      "source": [
        "df_sorted = df.sort_values(by = 'Age')\n",
        "\n",
        "df_sorted"
      ],
      "metadata": {
        "id": "S5c_NvTzDhmS"
      },
      "execution_count": null,
      "outputs": []
    },
    {
      "cell_type": "code",
      "source": [
        "grouped = df.groupby('City')['Salary'].mean()\n",
        "\n",
        "grouped"
      ],
      "metadata": {
        "id": "sZODcXBfDsBF"
      },
      "execution_count": null,
      "outputs": []
    },
    {
      "cell_type": "code",
      "source": [
        "df.loc[1,'Salary']"
      ],
      "metadata": {
        "id": "CLO7jKGTDy-U"
      },
      "execution_count": null,
      "outputs": []
    },
    {
      "cell_type": "code",
      "source": [],
      "metadata": {
        "id": "rqpO2R_uD5bH"
      },
      "execution_count": null,
      "outputs": []
    }
  ]
}