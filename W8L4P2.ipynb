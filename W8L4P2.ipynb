{
  "nbformat": 4,
  "nbformat_minor": 0,
  "metadata": {
    "colab": {
      "private_outputs": true,
      "provenance": [],
      "authorship_tag": "ABX9TyNL+aQuj0whCMcmGN9tPnF5",
      "include_colab_link": true
    },
    "kernelspec": {
      "name": "python3",
      "display_name": "Python 3"
    },
    "language_info": {
      "name": "python"
    }
  },
  "cells": [
    {
      "cell_type": "markdown",
      "metadata": {
        "id": "view-in-github",
        "colab_type": "text"
      },
      "source": [
        "<a href=\"https://colab.research.google.com/github/hrcn81/IITRPR_AI_25010031/blob/main/W8L4P2.ipynb\" target=\"_parent\"><img src=\"https://colab.research.google.com/assets/colab-badge.svg\" alt=\"Open In Colab\"/></a>"
      ]
    },
    {
      "cell_type": "code",
      "execution_count": null,
      "metadata": {
        "id": "NyMMOSfiHghn"
      },
      "outputs": [],
      "source": [
        "import random\n",
        "import matplotlib.pyplot as plt\n",
        "\n",
        "low_count = 0\n",
        "high_count = 0\n",
        "\n",
        "scores = []\n",
        "\n",
        "for _ in range(100):\n",
        "    num = random.randint(5,100)\n",
        "    score = num//10\n",
        "    scores.append(score)\n",
        "\n",
        "    if score < 5:\n",
        "        low_count += 1\n",
        "\n",
        "    else:\n",
        "        high_count += 1\n",
        "\n",
        "# print(len(scores))      # 100\n",
        "print(scores)\n",
        "\n",
        "print(low_count)\n",
        "print(high_count)\n",
        "\n",
        "plt.scatter(range(100), scores,color = 'red')\n",
        "plt.title(\"Scatte plot of Scores\")\n",
        "plt.show()\n"
      ]
    }
  ]
}