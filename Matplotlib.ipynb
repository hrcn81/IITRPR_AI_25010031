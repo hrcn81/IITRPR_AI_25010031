{
  "nbformat": 4,
  "nbformat_minor": 0,
  "metadata": {
    "colab": {
      "private_outputs": true,
      "provenance": [],
      "authorship_tag": "ABX9TyMUCGFWaCRfXgTW8eMPX9k8",
      "include_colab_link": true
    },
    "kernelspec": {
      "name": "python3",
      "display_name": "Python 3"
    },
    "language_info": {
      "name": "python"
    }
  },
  "cells": [
    {
      "cell_type": "markdown",
      "metadata": {
        "id": "view-in-github",
        "colab_type": "text"
      },
      "source": [
        "<a href=\"https://colab.research.google.com/github/hrcn81/IITRPR_AI_25010031/blob/main/Matplotlib.ipynb\" target=\"_parent\"><img src=\"https://colab.research.google.com/assets/colab-badge.svg\" alt=\"Open In Colab\"/></a>"
      ]
    },
    {
      "cell_type": "code",
      "execution_count": null,
      "metadata": {
        "id": "pH__78vFtlo6"
      },
      "outputs": [],
      "source": [
        "pip install matplotlib"
      ]
    },
    {
      "cell_type": "code",
      "source": [
        "import matplotlib.pyplot as plt\n",
        "import numpy as np\n",
        "import pandas as pd"
      ],
      "metadata": {
        "id": "RBbI2TIFtuf9"
      },
      "execution_count": null,
      "outputs": []
    },
    {
      "cell_type": "markdown",
      "source": [
        "# Basic Graphs"
      ],
      "metadata": {
        "id": "2vQCfatHt9I-"
      }
    },
    {
      "cell_type": "code",
      "source": [
        "# For plotting simple graph\n",
        "\n",
        "x = [5,10,15,20,25,30]\n",
        "y = [6,12,24,36,48,60]\n",
        "\n",
        "plt.plot(x,y)\n",
        "plt.show()"
      ],
      "metadata": {
        "id": "O_dSfqHYt33_"
      },
      "execution_count": null,
      "outputs": []
    },
    {
      "cell_type": "code",
      "source": [
        "# For colour\n",
        "\n",
        "plt.plot(x,y,color = 'r')\n",
        "plt.show()"
      ],
      "metadata": {
        "id": "gLo7xuVEuKr7"
      },
      "execution_count": null,
      "outputs": []
    },
    {
      "cell_type": "code",
      "source": [
        "# For marking\n",
        "\n",
        "plt.plot(x,y,marker = 's',color = 'b')\n",
        "plt.show()"
      ],
      "metadata": {
        "id": "giq0y39ou0vK"
      },
      "execution_count": null,
      "outputs": []
    },
    {
      "cell_type": "code",
      "source": [
        "# For marking colour\n",
        "\n",
        "plt.plot(x,y,marker = 's',linewidth=1,linestyle = '--',markeredgewidth=1,markersize=10,color = 'r',markeredgecolor = 'b',markerfacecolor='y')\n",
        "plt.show()"
      ],
      "metadata": {
        "id": "VbOQsxBHvMR0"
      },
      "execution_count": null,
      "outputs": []
    },
    {
      "cell_type": "code",
      "source": [],
      "metadata": {
        "id": "hzDWzfRVxQk6"
      },
      "execution_count": null,
      "outputs": []
    }
  ]
}