{
  "nbformat": 4,
  "nbformat_minor": 0,
  "metadata": {
    "colab": {
      "private_outputs": true,
      "provenance": [],
      "authorship_tag": "ABX9TyPXc9arxdxZ2t3/jX2HmGxg",
      "include_colab_link": true
    },
    "kernelspec": {
      "name": "python3",
      "display_name": "Python 3"
    },
    "language_info": {
      "name": "python"
    }
  },
  "cells": [
    {
      "cell_type": "markdown",
      "metadata": {
        "id": "view-in-github",
        "colab_type": "text"
      },
      "source": [
        "<a href=\"https://colab.research.google.com/github/hrcn81/IITRPR_AI_25010031/blob/main/IITRPR_07_03_02_2025.ipynb\" target=\"_parent\"><img src=\"https://colab.research.google.com/assets/colab-badge.svg\" alt=\"Open In Colab\"/></a>"
      ]
    },
    {
      "cell_type": "code",
      "execution_count": null,
      "metadata": {
        "id": "WOrm4vGfwDnt"
      },
      "outputs": [],
      "source": [
        "num = [1,2,3,4,5,6,7,8,9,10]\n",
        "\n",
        "# Indexing\n",
        "print('The first number is:',num[0])\n",
        "print('Ther second number is:',num[1])\n",
        "print('The .... number is:',num[-1])"
      ]
    },
    {
      "cell_type": "code",
      "source": [],
      "metadata": {
        "id": "yhwrQHrUwaN6"
      },
      "execution_count": null,
      "outputs": []
    }
  ]
}