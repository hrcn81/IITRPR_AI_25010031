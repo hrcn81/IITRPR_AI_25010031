{
  "nbformat": 4,
  "nbformat_minor": 0,
  "metadata": {
    "colab": {
      "private_outputs": true,
      "provenance": [],
      "mount_file_id": "1f6uhe7Gm-a8hlzxirSRZxcZXIt2WbFyB",
      "authorship_tag": "ABX9TyOmdbIG87Et6WvKbTakBbBE",
      "include_colab_link": true
    },
    "kernelspec": {
      "name": "python3",
      "display_name": "Python 3"
    },
    "language_info": {
      "name": "python"
    }
  },
  "cells": [
    {
      "cell_type": "markdown",
      "metadata": {
        "id": "view-in-github",
        "colab_type": "text"
      },
      "source": [
        "<a href=\"https://colab.research.google.com/github/hrcn81/IITRPR_AI_25010031/blob/main/W6L1.ipynb\" target=\"_parent\"><img src=\"https://colab.research.google.com/assets/colab-badge.svg\" alt=\"Open In Colab\"/></a>"
      ]
    },
    {
      "cell_type": "code",
      "execution_count": null,
      "metadata": {
        "id": "g2u7YOY3gEr0"
      },
      "outputs": [],
      "source": [
        "import matplotlib.pyplot as plt\n",
        "import pandas as pd"
      ]
    },
    {
      "cell_type": "code",
      "source": [
        "df = pd.read_csv(\"/content/daily_steps.csv\")"
      ],
      "metadata": {
        "id": "s2EjZ8hhgyYZ"
      },
      "execution_count": null,
      "outputs": []
    },
    {
      "cell_type": "code",
      "source": [
        "df.head()"
      ],
      "metadata": {
        "id": "eqHk6IaGg7nC"
      },
      "execution_count": null,
      "outputs": []
    },
    {
      "cell_type": "code",
      "source": [
        "plt.plot(df['Person_ID'],df['Daily_Steps'],color = 'orangered')\n",
        "plt.ylabel('Person ID')\n",
        "plt.xlabel('Daily Steps')\n",
        "plt.title(\"People's daily steps\")\n",
        "plt.show()"
      ],
      "metadata": {
        "id": "YB5mhY7IhONV"
      },
      "execution_count": null,
      "outputs": []
    },
    {
      "cell_type": "code",
      "source": [
        "plt.hist(df['Daily_Steps'], bins=20, color='orange', edgecolor='black')\n",
        "plt.ylabel(\"Person ID\")\n",
        "plt.xlabel(\"Daily Steps\")\n",
        "plt.title(\"People's Daily Steps\")\n",
        "plt.show()"
      ],
      "metadata": {
        "id": "gMnuNSdKjrMf"
      },
      "execution_count": null,
      "outputs": []
    },
    {
      "cell_type": "code",
      "source": [
        "min_steps = df['Daily_Steps'].min()\n",
        "max_steps = df['Daily_Steps'].max()\n",
        "\n",
        "print(f\"Minimum daily steps: {min_steps}\")\n",
        "print(f\"Maximum daily steps: {max_steps}\")"
      ],
      "metadata": {
        "id": "bIIJQznpkrrN"
      },
      "execution_count": null,
      "outputs": []
    },
    {
      "cell_type": "code",
      "source": [
        "# Assuming 'Daily_Steps' is a numeric column\n",
        "top_5_increment = df.nsmallest(10, 'Daily_Steps')\n",
        "top_5_increment"
      ],
      "metadata": {
        "id": "jMWBiv2Hl6tT"
      },
      "execution_count": null,
      "outputs": []
    },
    {
      "cell_type": "code",
      "source": [
        "import matplotlib.pyplot as plt\n",
        "\n",
        "x = [1,2,3,4,5]\n",
        "y1 = [2,4,6,8,10]\n",
        "y2 = [1,3,5,7,9]\n",
        "\n",
        "plt.plot(x,y1,marker = 'o',markersize=7.5,linestyle='--',color = 'blue',label='Dashed Blue')\n",
        "plt.plot(x,y2,marker='s',markersize=7.5,linestyle='-.',color = 'darkorange',label='Dash Dot Orange')\n",
        "\n",
        "plt.xlabel(\"X-Axis Label\")  # Add an appropriate label\n",
        "plt.ylabel(\"Y-Axis Label\")  # Add an appropriate label\n",
        "# plt.title(\"Styled Line Plot\")  # Add a title\n",
        "\n",
        "plt.legend()  # Show the legend\n",
        "plt.grid(True)  # Add a grid for better readability\n",
        "# plt.show()"
      ],
      "metadata": {
        "id": "lBlFEXe6m1B0"
      },
      "execution_count": null,
      "outputs": []
    }
  ]
}