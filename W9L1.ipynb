{
  "nbformat": 4,
  "nbformat_minor": 0,
  "metadata": {
    "colab": {
      "private_outputs": true,
      "provenance": [],
      "authorship_tag": "ABX9TyOpQ0fOuHTOrcNEDDTYp+XV",
      "include_colab_link": true
    },
    "kernelspec": {
      "name": "python3",
      "display_name": "Python 3"
    },
    "language_info": {
      "name": "python"
    }
  },
  "cells": [
    {
      "cell_type": "markdown",
      "metadata": {
        "id": "view-in-github",
        "colab_type": "text"
      },
      "source": [
        "<a href=\"https://colab.research.google.com/github/hrcn81/IITRPR_AI_25010031/blob/main/W9L1.ipynb\" target=\"_parent\"><img src=\"https://colab.research.google.com/assets/colab-badge.svg\" alt=\"Open In Colab\"/></a>"
      ]
    },
    {
      "cell_type": "code",
      "execution_count": null,
      "metadata": {
        "id": "E74Zs_hXn82H"
      },
      "outputs": [],
      "source": [
        "# The case study of Music App :\n",
        "\n",
        "songs = [\"Edge of midnight-Miley Cyrus\",\"Jilan Jilva-Jahnvi Shrimankar\",\"Full moon-Jim Yosef\",\"Ego-Willy William\"]\n",
        "\n",
        "for s in songs:\n",
        "    print(\"Playing :\",s)"
      ]
    },
    {
      "cell_type": "code",
      "source": [
        "class Song:\n",
        "    def __init__(self,title,artist):\n",
        "        self.title = title\n",
        "        self.artist = artist\n",
        "\n",
        "\n",
        "    def play(self):\n",
        "        print(\"Playing\",self.title, \"by\", self.artist )\n",
        "\n",
        "\n",
        "Playlist = [Song(\"Edge of midnight\",\"Miley Cyrus\"),Song(\"Jilan Jilva\",\"Jahnvi Shrimankar\"),Song(\"Full moon\",\"Jim Yosef\"),\n",
        "            Song(\"Ego\",\"Willy William\")]\n",
        "\n",
        "for Song in Playlist:\n",
        "    Song.play()\n",
        "\n"
      ],
      "metadata": {
        "id": "bCZLTNcColco"
      },
      "execution_count": null,
      "outputs": []
    },
    {
      "cell_type": "code",
      "source": [
        "class Song:\n",
        "    def __init__(self,titleX,artist,duration):\n",
        "        self.title = titleX\n",
        "        self.artist = artist\n",
        "        self.duration = duration        # Private\n",
        "\n",
        "song = Song(\"Ego\",\"Willy William\",100)\n",
        "song.duration = 50\n",
        "print(song.title)\n",
        "print(song.duration)"
      ],
      "metadata": {
        "id": "qs0DejzNpaqa"
      },
      "execution_count": null,
      "outputs": []
    },
    {
      "cell_type": "code",
      "source": [],
      "metadata": {
        "id": "AeO4SJWJwriX"
      },
      "execution_count": null,
      "outputs": []
    }
  ]
}