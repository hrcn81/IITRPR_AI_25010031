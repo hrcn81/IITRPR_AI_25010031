{
  "nbformat": 4,
  "nbformat_minor": 0,
  "metadata": {
    "colab": {
      "private_outputs": true,
      "provenance": [],
      "authorship_tag": "ABX9TyNGPE9a2VEfI0+IuQnKzZCP",
      "include_colab_link": true
    },
    "kernelspec": {
      "name": "python3",
      "display_name": "Python 3"
    },
    "language_info": {
      "name": "python"
    }
  },
  "cells": [
    {
      "cell_type": "markdown",
      "metadata": {
        "id": "view-in-github",
        "colab_type": "text"
      },
      "source": [
        "<a href=\"https://colab.research.google.com/github/hrcn81/IITRPR_AI_25010031/blob/main/W8L5P2.ipynb\" target=\"_parent\"><img src=\"https://colab.research.google.com/assets/colab-badge.svg\" alt=\"Open In Colab\"/></a>"
      ]
    },
    {
      "cell_type": "code",
      "execution_count": null,
      "metadata": {
        "id": "cRWYxKZ4Q4mM"
      },
      "outputs": [],
      "source": [
        "# Python list\n",
        "\n",
        "\"\"\"\n",
        "\n",
        "Lists allow us to store multiple items in a single variable\n",
        "\n",
        "\"\"\""
      ]
    },
    {
      "cell_type": "code",
      "source": [
        "# Creating a list:\n",
        "\n",
        "\"\"\"\n",
        "\n",
        "Placing\n",
        "\n",
        "\"\"\""
      ],
      "metadata": {
        "id": "qsPJ--6URKQg"
      },
      "execution_count": null,
      "outputs": []
    },
    {
      "cell_type": "code",
      "source": [
        "# List Characteristics\n",
        "\n",
        "\"\"\"\n",
        "\n",
        "Ordered : Stays as it is you added\n",
        "Mutable : Changable\n",
        "Allow duplicates\n",
        "Indexing : Starts from 0\n",
        "\n",
        "\"\"\""
      ],
      "metadata": {
        "id": "K-xgN_8JSeB9"
      },
      "execution_count": null,
      "outputs": []
    },
    {
      "cell_type": "code",
      "source": [],
      "metadata": {
        "id": "oqZpVbcPStdn"
      },
      "execution_count": null,
      "outputs": []
    }
  ]
}