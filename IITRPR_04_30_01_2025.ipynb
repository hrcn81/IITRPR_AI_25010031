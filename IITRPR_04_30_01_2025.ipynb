{
  "nbformat": 4,
  "nbformat_minor": 0,
  "metadata": {
    "colab": {
      "private_outputs": true,
      "provenance": [],
      "authorship_tag": "ABX9TyPa/mz/ly/9fGjDhHI6QDvU",
      "include_colab_link": true
    },
    "kernelspec": {
      "name": "python3",
      "display_name": "Python 3"
    },
    "language_info": {
      "name": "python"
    }
  },
  "cells": [
    {
      "cell_type": "markdown",
      "metadata": {
        "id": "view-in-github",
        "colab_type": "text"
      },
      "source": [
        "<a href=\"https://colab.research.google.com/github/hrcn81/IITRPR_AI_25010031/blob/main/IITRPR_04_30_01_2025.ipynb\" target=\"_parent\"><img src=\"https://colab.research.google.com/assets/colab-badge.svg\" alt=\"Open In Colab\"/></a>"
      ]
    },
    {
      "cell_type": "code",
      "execution_count": null,
      "metadata": {
        "id": "IJW9BPtAp757"
      },
      "outputs": [],
      "source": [
        "s1 = \"hello\"\n",
        "s2 = \"world\"\n",
        "s1 + s2"
      ]
    },
    {
      "cell_type": "code",
      "source": [
        "age = int(input('Enter age:'))\n",
        "year = int(input('Enter the current year:'))\n",
        "\n",
        "birth_year = year - age\n",
        "print(f'Your birth year is:{birth_year}')\n",
        "# print(birth_year)"
      ],
      "metadata": {
        "id": "a0a783K6qSX3"
      },
      "execution_count": null,
      "outputs": []
    },
    {
      "cell_type": "code",
      "source": [
        "age = int(input('Enter age:'))\n",
        "\n",
        "if age < 0:\n",
        "    print(\"Age can't be negative\")\n",
        "if age == 0:\n",
        "    print(\"Age can't be zero\")\n",
        "if age > 0:\n",
        "    print(\"Age is valid\")\n",
        "if age >= 18 and age < 100:\n",
        "    print(\"You are an adult\")\n",
        "if age < 18:\n",
        "    print(\"You are not an adult\")\n",
        "if age >= 100:\n",
        "    print(\"Are you still alive?\")\n",
        "    x = input('Enter yes or no :')\n",
        "    if x == 'yes':\n",
        "        print('You are strong')\n",
        "    if x == 'no':\n",
        "        print('You are a Ghost')\n",
        "    else:\n",
        "        print('Invalid input')"
      ],
      "metadata": {
        "id": "zy3QuMV_s8Ix"
      },
      "execution_count": null,
      "outputs": []
    },
    {
      "cell_type": "code",
      "source": [
        "age = int(input('Enter age :'))\n",
        "year = int(input('Enter the current year :'))\n",
        "\n",
        "birth_year = year - age\n",
        "# print(f{'Your birth year is:',birth_year})      # syntax error\n",
        "print(f'Your birth year is :{birth_year}')\n",
        "# print(birth_year)"
      ],
      "metadata": {
        "id": "j-_VC7VDwIz_"
      },
      "execution_count": null,
      "outputs": []
    },
    {
      "cell_type": "code",
      "source": [],
      "metadata": {
        "id": "pDBqmNtoxspE"
      },
      "execution_count": null,
      "outputs": []
    }
  ]
}