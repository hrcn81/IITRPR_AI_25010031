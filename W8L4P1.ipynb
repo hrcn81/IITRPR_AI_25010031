{
  "nbformat": 4,
  "nbformat_minor": 0,
  "metadata": {
    "colab": {
      "private_outputs": true,
      "provenance": [],
      "authorship_tag": "ABX9TyMDTGkgSBoWZirS9hCmlwpe",
      "include_colab_link": true
    },
    "kernelspec": {
      "name": "python3",
      "display_name": "Python 3"
    },
    "language_info": {
      "name": "python"
    }
  },
  "cells": [
    {
      "cell_type": "markdown",
      "metadata": {
        "id": "view-in-github",
        "colab_type": "text"
      },
      "source": [
        "<a href=\"https://colab.research.google.com/github/hrcn81/IITRPR_AI_25010031/blob/main/W8L4P1.ipynb\" target=\"_parent\"><img src=\"https://colab.research.google.com/assets/colab-badge.svg\" alt=\"Open In Colab\"/></a>"
      ]
    },
    {
      "cell_type": "code",
      "source": [
        "# Amusement Park RUles\n",
        "\"\"\"\n",
        "1. Age must be at least 12 years old.\n",
        "2. Height must be at least 140 cm.\n",
        "3. People aged 12-15 must be accompanied by an adult.\n",
        "4. VIP members can enter regardless of age or height, but must not be banned.\n",
        "5. People with a heart condition cannot enter, even if VIP.\n",
        "\n",
        "\"\"\"\n",
        "\n",
        "\n",
        "\"\"\"\n",
        "\n",
        "1. age\n",
        "2. height\n",
        "3. is_accompanied\n",
        "4. is_vip\n",
        "5. has_heart_condition\n",
        "6. is_banned\n",
        "7. can_enter_ride()\n",
        "\n",
        "\"\"\""
      ],
      "metadata": {
        "id": "v4y9OMAWACz_"
      },
      "execution_count": null,
      "outputs": []
    },
    {
      "cell_type": "code",
      "execution_count": null,
      "metadata": {
        "id": "94tp55JJ_boa"
      },
      "outputs": [],
      "source": [
        "def can_enter_ride():\n",
        "    if has_heart_condition:\n",
        "        print(\"Sorry,Not allowed\\n\")\n",
        "    elif is_vip and not is_banned:\n",
        "        print(\"Welcome with VIP Access\\n\")\n",
        "    elif is_vip and is_banned:\n",
        "        print(\"Sorry,You're not allowed\\n\")\n",
        "    elif 12 <= age <= 15 and height >= 140:\n",
        "        if 12 <= age <= 15 and not is_accompanied:\n",
        "            print(\"Sorry,You're not allowed\\n\")\n",
        "        else:\n",
        "            print(\"Welcomen\\n\")\n",
        "    else:\n",
        "        print('Denied')\n",
        "\n",
        "\n",
        "age = 11\n",
        "height = 143\n",
        "is_accompanied = 1\n",
        "is_vip = 1\n",
        "has_heart_condition = 0\n",
        "is_banned = 0\n",
        "can_enter_ride()"
      ]
    }
  ]
}