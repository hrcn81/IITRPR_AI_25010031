{
  "nbformat": 4,
  "nbformat_minor": 0,
  "metadata": {
    "colab": {
      "private_outputs": true,
      "provenance": [],
      "authorship_tag": "ABX9TyN/YjfhKIDecyb1feH8Iklr",
      "include_colab_link": true
    },
    "kernelspec": {
      "name": "python3",
      "display_name": "Python 3"
    },
    "language_info": {
      "name": "python"
    }
  },
  "cells": [
    {
      "cell_type": "markdown",
      "metadata": {
        "id": "view-in-github",
        "colab_type": "text"
      },
      "source": [
        "<a href=\"https://colab.research.google.com/github/hrcn81/IITRPR_AI_25010031/blob/main/MBW2L1.ipynb\" target=\"_parent\"><img src=\"https://colab.research.google.com/assets/colab-badge.svg\" alt=\"Open In Colab\"/></a>"
      ]
    },
    {
      "cell_type": "code",
      "execution_count": null,
      "metadata": {
        "id": "v6tvxiTBpxk5"
      },
      "outputs": [],
      "source": [
        "import numpy as np\n",
        "import matplotlib.pyplot as plt\n",
        "from sklearn.linear_model import LinearRegression"
      ]
    },
    {
      "cell_type": "code",
      "source": [
        "# prompt: I have data of GRE score and admitted or not. fit me a polynomial regression. Assume around 10 GRE scores and\n",
        "# status. plot the graph\n",
        "\n",
        "import numpy as np\n",
        "import matplotlib.pyplot as plt\n",
        "from sklearn.preprocessing import PolynomialFeatures\n",
        "from sklearn.linear_model import LinearRegression\n",
        "\n",
        "# Sample data (replace with your actual data)\n",
        "GRE_scores = np.array([300, 310, 320, 330, 340, 350, 360, 370, 380, 390]).reshape((-1, 1))\n",
        "admitted = np.array([0, 0, 0, 1, 0, 1, 1, 1, 1, 1])\n",
        "\n",
        "# Create polynomial features\n",
        "degree = 2  # You can adjust the degree of the polynomial\n",
        "poly = PolynomialFeatures(degree=degree)\n",
        "GRE_scores_poly = poly.fit_transform(GRE_scores)\n",
        "\n",
        "\n",
        "# Fit polynomial regression\n",
        "model = LinearRegression()\n",
        "model.fit(GRE_scores_poly, admitted)\n",
        "\n",
        "# Predict values\n",
        "y_pred = model.predict(GRE_scores_poly)\n",
        "\n",
        "\n",
        "# Plot the results\n",
        "plt.scatter(GRE_scores, admitted, color='blue', label='Actual Data')\n",
        "plt.plot(GRE_scores, y_pred, color='red', label='Polynomial Regression')\n",
        "plt.xlabel('GRE Scores')\n",
        "plt.ylabel('Admitted (0 or 1)')\n",
        "plt.title('Polynomial Regression on GRE Scores and Admission Status')\n",
        "plt.legend()\n",
        "plt.show()\n"
      ],
      "metadata": {
        "id": "N4-GvWNIrzzw"
      },
      "execution_count": null,
      "outputs": []
    },
    {
      "cell_type": "code",
      "source": [],
      "metadata": {
        "id": "y6IIoYCVsGDH"
      },
      "execution_count": null,
      "outputs": []
    }
  ]
}