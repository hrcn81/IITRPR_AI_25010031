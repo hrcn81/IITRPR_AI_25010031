{
  "nbformat": 4,
  "nbformat_minor": 0,
  "metadata": {
    "colab": {
      "private_outputs": true,
      "provenance": [],
      "authorship_tag": "ABX9TyPUozUnSX1gLCh2nqDLIP44",
      "include_colab_link": true
    },
    "kernelspec": {
      "name": "python3",
      "display_name": "Python 3"
    },
    "language_info": {
      "name": "python"
    }
  },
  "cells": [
    {
      "cell_type": "markdown",
      "metadata": {
        "id": "view-in-github",
        "colab_type": "text"
      },
      "source": [
        "<a href=\"https://colab.research.google.com/github/hrcn81/IITRPR_AI_25010031/blob/main/MB/MBW1L5.ipynb\" target=\"_parent\"><img src=\"https://colab.research.google.com/assets/colab-badge.svg\" alt=\"Open In Colab\"/></a>"
      ]
    },
    {
      "cell_type": "code",
      "execution_count": null,
      "metadata": {
        "id": "a91XjG3nSIpC"
      },
      "outputs": [],
      "source": [
        "import numpy as np\n",
        "import matplotlib.pyplot as plt\n",
        "from sklearn.linear_model import LinearRegression\n",
        "from sklearn.preprocessing import PolynomialFeatures\n",
        "from sklearn.metrics import r2_score\n",
        "\n",
        "# Day Number\n",
        "x = np.array([1, 2, 3, 4, 5, 6, 7, 8, 9, 10]).reshape(-1, 1)\n",
        "\n",
        "# Plant Growth\n",
        "y = np.array([1, 2, 3, 5, 15, 34, 48, 70, 136, 185])"
      ]
    },
    {
      "cell_type": "code",
      "source": [
        "model01 = LinearRegression()\n",
        "model01.fit(x,y)"
      ],
      "metadata": {
        "id": "xXuEDWnKSKEn"
      },
      "execution_count": null,
      "outputs": []
    },
    {
      "cell_type": "code",
      "source": [
        "plt.scatter(x, y)\n",
        "plt.plot(x, model01.predict(x))\n",
        "plt.show()"
      ],
      "metadata": {
        "id": "9k_BxxUuSeya"
      },
      "execution_count": null,
      "outputs": []
    },
    {
      "cell_type": "code",
      "source": [
        "model02 = PolynomialFeatures(degree=3)\n",
        "x_poly = model02.fit_transform(x)\n",
        "model02.fit(x_poly, y)\n",
        "lin_reg = LinearRegression()\n",
        "lin_reg.fit(x_poly, y)\n",
        "\n",
        "plt.scatter(x, y)\n",
        "plt.plot(x, lin_reg.predict(model02.fit_transform(x)))\n",
        "plt.show()"
      ],
      "metadata": {
        "id": "vSaeePhHSjgn"
      },
      "execution_count": null,
      "outputs": []
    },
    {
      "cell_type": "code",
      "source": [],
      "metadata": {
        "id": "c_zp9mhrS0G5"
      },
      "execution_count": null,
      "outputs": []
    }
  ]
}
