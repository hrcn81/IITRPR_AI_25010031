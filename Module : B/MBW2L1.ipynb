{
  "nbformat": 4,
  "nbformat_minor": 0,
  "metadata": {
    "colab": {
      "private_outputs": true,
      "provenance": [],
      "authorship_tag": "ABX9TyPqU74eGR1vuzJB3X1M07ei",
      "include_colab_link": true
    },
    "kernelspec": {
      "name": "python3",
      "display_name": "Python 3"
    },
    "language_info": {
      "name": "python"
    }
  },
  "cells": [
    {
      "cell_type": "markdown",
      "metadata": {
        "id": "view-in-github",
        "colab_type": "text"
      },
      "source": [
        "<a href=\"https://colab.research.google.com/github/hrcn81/IITRPR_AI_25010031/blob/main/Module%20%3A%20B/MBW2L1.ipynb\" target=\"_parent\"><img src=\"https://colab.research.google.com/assets/colab-badge.svg\" alt=\"Open In Colab\"/></a>"
      ]
    },
    {
      "cell_type": "code",
      "execution_count": null,
      "metadata": {
        "id": "v6tvxiTBpxk5"
      },
      "outputs": [],
      "source": [
        "import numpy as np\n",
        "import matplotlib.pyplot as plt\n",
        "from sklearn.linear_model import LinearRegression"
      ]
    },
    {
      "cell_type": "code",
      "source": [
        "# prompt: I have data of GRE score and admitted or not. fit me a polynomial regression. Assume around 10 GRE scores and\n",
        "# status. plot the graph\n",
        "\n",
        "import numpy as np\n",
        "import matplotlib.pyplot as plt\n",
        "from sklearn.preprocessing import PolynomialFeatures\n",
        "from sklearn.linear_model import LinearRegression\n",
        "\n",
        "# Sample data (replace with your actual data)\n",
        "GRE_scores = np.array([300, 310, 320, 330, 340, 350, 360, 370, 380, 390]).reshape((-1, 1))\n",
        "admitted = np.array([0, 0, 0, 1, 0, 1, 1, 1, 1, 1])\n",
        "\n",
        "# Create polynomial features\n",
        "degree = 4  # You can3 adjust the degree of the polynomial\n",
        "poly = PolynomialFeatures(degree=degree)\n",
        "GRE_scores_poly = poly.fit_transform(GRE_scores)\n",
        "\n",
        "\n",
        "# Fit polynomial regression\n",
        "model = LinearRegression()\n",
        "model.fit(GRE_scores_poly, admitted)\n",
        "\n",
        "# Predict values\n",
        "y_pred = model.predict(GRE_scores_poly)\n",
        "\n",
        "\n",
        "# Plot the results\n",
        "plt.scatter(GRE_scores, admitted, color='blue', label='Actual Data')\n",
        "plt.plot(GRE_scores, y_pred, color='red', label='Polynomial Regression')\n",
        "plt.xlabel('GRE Scores')\n",
        "plt.ylabel('Admitted (0 or 1)')\n",
        "plt.title('Polynomial Regression on GRE Scores and Admission Status')\n",
        "plt.legend()\n",
        "plt.show()\n"
      ],
      "metadata": {
        "id": "N4-GvWNIrzzw"
      },
      "execution_count": null,
      "outputs": []
    },
    {
      "cell_type": "code",
      "source": [
        "import numpy as np\n",
        "import matplotlib.pyplot as plt\n",
        "\n",
        "\n",
        "# Step 1: Define the sigmoid function\n",
        "def sigmoid(z):\n",
        "    return 1 / (1 + np.exp(-z))\n",
        "\n",
        "\n",
        "# Step 2: Generate input values from -10 to 10\n",
        "z_values = np.linspace(-10, 10)\n",
        "sigmoid_values = sigmoid(z_values)\n",
        "\n",
        "\n",
        "# Step 3: Plot the sigmoid function\n",
        "plt.figure(figsize=(8, 5))\n",
        "plt.plot(z_values, sigmoid_values, label=\"Sigmoid Function\", color=\"darkblue\")\n",
        "plt.title(\"Sigmoid Function Curve\")\n",
        "plt.xlabel(\"Input (z)\")\n",
        "plt.ylabel(\"Sigmoid(z)\")\n",
        "plt.grid(True)\n",
        "plt.axvline(0, color='gray', linestyle='--', alpha=0.5)\n",
        "plt.axhline(0.5, color='red', linestyle='--', alpha=0.6, label='Threshold at 0.5')\n",
        "plt.legend()\n",
        "plt.show()"
      ],
      "metadata": {
        "id": "y6IIoYCVsGDH"
      },
      "execution_count": null,
      "outputs": []
    },
    {
      "cell_type": "code",
      "source": [
        "import numpy as np\n",
        "import matplotlib.pyplot as plt\n",
        "from sklearn.linear_model import LinearRegression, LogisticRegression\n",
        "\n",
        "# Sample data: Hours studied vs marks (for linear) and pass/fail (for logistic)\n",
        "X = np.array([[1], [2], [3], [4], [5], [6], [7], [8], [9], [10]])\n",
        "y_regression = np.array([35, 40, 50, 55, 60, 65, 70, 75, 85, 90])  # marks\n",
        "y_classification = np.array([0, 0, 0, 0, 0, 1, 1, 1, 1, 1])        # pass/fail\n",
        "\n",
        "# Train the model\n",
        "linear_model = LinearRegression()\n",
        "linear_model.fit(X, y_regression)\n",
        "y_linear_pred = linear_model.predict(X)\n",
        "\n",
        "# Train the model\n",
        "logistic_model = LogisticRegression()       # sigmoid\n",
        "logistic_model.fit(X, y_classification)\n",
        "x_range = np.linspace(0, 11, 300).reshape(-1, 1)\n",
        "y_logistic_prob = logistic_model.predict_proba(x_range)[:, 1]\n",
        "\n",
        "# Plotting\n",
        "fig, (ax1, ax2) = plt.subplots(1, 2, figsize=(14, 5))\n",
        "\n",
        "# Linear Regression Plot\n",
        "ax1.scatter(X, y_regression, color='blue', label='Actual Marks')\n",
        "ax1.plot(X, y_linear_pred, color='red', label='Linear Fit')\n",
        "ax1.set_title('Linear Regression: Hours vs Marks')\n",
        "ax1.set_xlabel('Hours Studied')\n",
        "ax1.set_ylabel('Marks Scored')\n",
        "ax1.legend()\n",
        "ax1.grid(True)\n",
        "\n",
        "# Logistic Regression Plot\n",
        "ax2.scatter(X, y_classification, color='green', label='Actual Pass/Fail')\n",
        "ax2.plot(x_range, y_logistic_prob, color='purple', label='Logistic Curve')\n",
        "ax2.axhline(0.5, color='gray', linestyle='--', label='Threshold = 0.5')\n",
        "ax2.set_title('Logistic Regression: Hours vs Pass Probability')\n",
        "ax2.set_xlabel('Hours Studied')\n",
        "ax2.set_ylabel('Probability of Passing')\n",
        "ax2.legend()\n",
        "ax2.grid(True)\n",
        "\n",
        "plt.tight_layout()\n",
        "plt.show()"
      ],
      "metadata": {
        "id": "Dp63qCFX4hk1"
      },
      "execution_count": null,
      "outputs": []
    },
    {
      "cell_type": "code",
      "source": [
        "import numpy as np\n",
        "import matplotlib.pyplot as plt\n",
        "from sklearn.linear_model import LogisticRegression\n",
        "import ipywidgets as widgets\n",
        "from IPython.display import display\n",
        "\n",
        "# Data\n",
        "gre_scores = np.array([290, 300, 310, 320, 330, 340, 295, 305, 315, 325])\n",
        "admissions = np.array([0, 0, 0, 1, 1, 1, 0, 0, 1, 1])\n",
        "\n",
        "X = gre_scores.reshape(-1, 1)\n",
        "y = admissions\n",
        "\n",
        "# Model\n",
        "model = LogisticRegression()\n",
        "model.fit(X, y)\n",
        "\n",
        "# Widget\n",
        "gre_input = widgets.IntSlider(\n",
        "    value=310,\n",
        "    min=280,\n",
        "    max=350,\n",
        "    step=1,\n",
        "    description='GRE Score:',\n",
        "    continuous_update=False\n",
        ")\n",
        "\n",
        "# Function to update plot and prediction\n",
        "def update_plot(gre_val):\n",
        "    prediction = model.predict([[gre_val]])[0]\n",
        "    prob = model.predict_proba([[gre_val]])[0][1]\n",
        "\n",
        "    print(f\"\\nGRE Score: {gre_val}\")\n",
        "    print(f\"Prediction: {'Admitted' if prediction else 'Not Admitted'}\")\n",
        "    print(f\"Probability of Admission: {prob:.2f}\")\n",
        "\n",
        "    # Plot sigmoid\n",
        "    gre_range = np.linspace(280, 350, 300).reshape(-1, 1)\n",
        "    predicted_probs = model.predict_proba(gre_range)[:, 1]\n",
        "\n",
        "    plt.figure(figsize=(8, 5))\n",
        "    plt.scatter(gre_scores, admissions, color='red', edgecolors='k', label='Training Data')\n",
        "    plt.plot(gre_range, predicted_probs, color='blue', label='Sigmoid Curve')\n",
        "    plt.axvline(gre_val, color='green', linestyle='--', label='Your GRE')\n",
        "    plt.xlabel(\"GRE Score\")\n",
        "    plt.ylabel(\"Probability of Admission\")\n",
        "    plt.title(\"Logistic Regression Prediction\")\n",
        "    plt.legend()\n",
        "    plt.grid(True)\n",
        "    plt.show()\n",
        "\n",
        "# Display the widget\n",
        "widgets.interact(update_plot, gre_val=gre_input)"
      ],
      "metadata": {
        "id": "IjURFRUp5ULQ"
      },
      "execution_count": null,
      "outputs": []
    }
  ]
}