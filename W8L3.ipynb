{
  "nbformat": 4,
  "nbformat_minor": 0,
  "metadata": {
    "colab": {
      "private_outputs": true,
      "provenance": [],
      "authorship_tag": "ABX9TyPbJdDXVKrpqj7zqinuZeJw",
      "include_colab_link": true
    },
    "kernelspec": {
      "name": "python3",
      "display_name": "Python 3"
    },
    "language_info": {
      "name": "python"
    }
  },
  "cells": [
    {
      "cell_type": "markdown",
      "metadata": {
        "id": "view-in-github",
        "colab_type": "text"
      },
      "source": [
        "<a href=\"https://colab.research.google.com/github/hrcn81/IITRPR_AI_25010031/blob/main/W8L3.ipynb\" target=\"_parent\"><img src=\"https://colab.research.google.com/assets/colab-badge.svg\" alt=\"Open In Colab\"/></a>"
      ]
    },
    {
      "cell_type": "code",
      "execution_count": null,
      "metadata": {
        "id": "40NPlq1k2Xpf"
      },
      "outputs": [],
      "source": [
        "#  What is the alien trying to say?\n",
        "m1 = 73\n",
        "m2 = 80\n",
        "m3 = 76\n",
        "\n",
        "print(bool(m1))\n",
        "print(bool(m2))\n",
        "print(bool(m3))"
      ]
    },
    {
      "cell_type": "code",
      "source": [
        "print(bool(1))\n",
        "print(bool(0))\n",
        "print(bool(-1))"
      ],
      "metadata": {
        "id": "MDiglXov2lP_"
      },
      "execution_count": null,
      "outputs": []
    },
    {
      "cell_type": "code",
      "source": [
        "print(bool(\"Alien\"))\n",
        "print(bool(\"\"))"
      ],
      "metadata": {
        "id": "KQxBU_K-3BPU"
      },
      "execution_count": null,
      "outputs": []
    },
    {
      "cell_type": "code",
      "source": [],
      "metadata": {
        "id": "suSKR_Mn3Oja"
      },
      "execution_count": null,
      "outputs": []
    }
  ]
}