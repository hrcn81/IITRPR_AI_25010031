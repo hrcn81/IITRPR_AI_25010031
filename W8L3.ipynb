{
  "nbformat": 4,
  "nbformat_minor": 0,
  "metadata": {
    "colab": {
      "private_outputs": true,
      "provenance": [],
      "authorship_tag": "ABX9TyP6ddrncfi8dlEBiFLQgdAL",
      "include_colab_link": true
    },
    "kernelspec": {
      "name": "python3",
      "display_name": "Python 3"
    },
    "language_info": {
      "name": "python"
    }
  },
  "cells": [
    {
      "cell_type": "markdown",
      "metadata": {
        "id": "view-in-github",
        "colab_type": "text"
      },
      "source": [
        "<a href=\"https://colab.research.google.com/github/hrcn81/IITRPR_AI_25010031/blob/main/W8L3.ipynb\" target=\"_parent\"><img src=\"https://colab.research.google.com/assets/colab-badge.svg\" alt=\"Open In Colab\"/></a>"
      ]
    },
    {
      "cell_type": "code",
      "execution_count": null,
      "metadata": {
        "id": "40NPlq1k2Xpf"
      },
      "outputs": [],
      "source": [
        "#  What is the alien trying to say?\n",
        "m1 = 73\n",
        "m2 = 80\n",
        "m3 = 76\n",
        "\n",
        "print(bool(m1))\n",
        "print(bool(m2))\n",
        "print(bool(m3))"
      ]
    },
    {
      "cell_type": "code",
      "source": [
        "print(bool(1))\n",
        "print(bool(0))\n",
        "print(bool(-1))"
      ],
      "metadata": {
        "id": "MDiglXov2lP_"
      },
      "execution_count": null,
      "outputs": []
    },
    {
      "cell_type": "code",
      "source": [
        "print(bool(\"Alien\"))\n",
        "print(bool(\"\"))"
      ],
      "metadata": {
        "id": "KQxBU_K-3BPU"
      },
      "execution_count": null,
      "outputs": []
    },
    {
      "cell_type": "code",
      "source": [
        "print(float(bool(0)))\n",
        "print(float(bool(\"Any character or any number\")))\n",
        "\n",
        "print()\n",
        "\n",
        "print(float(m1))\n",
        "print(float(m2))\n",
        "print(float(m3))"
      ],
      "metadata": {
        "id": "suSKR_Mn3Oja"
      },
      "execution_count": null,
      "outputs": []
    },
    {
      "cell_type": "code",
      "source": [
        "print(chr(m1))\n",
        "print(chr(m2))\n",
        "print(chr(m3))"
      ],
      "metadata": {
        "id": "tsxeF66w334u"
      },
      "execution_count": null,
      "outputs": []
    },
    {
      "cell_type": "code",
      "source": [
        "alien_message = chr(m1) + chr(m2) +chr(m3)\n",
        "print(alien_message)"
      ],
      "metadata": {
        "id": "wMu3zwOh4eSE"
      },
      "execution_count": null,
      "outputs": []
    },
    {
      "cell_type": "code",
      "source": [
        "num_str = \"100\"\n",
        "f_num = 3.142\n",
        "zero = 0\n",
        "sstr = \"Hello\"\n",
        "\n",
        "print(str(num_str))\n",
        "print(str(f_num))\n",
        "print(str(zero))\n",
        "print(str(sstr))"
      ],
      "metadata": {
        "id": "zKU2mujT4_XA"
      },
      "execution_count": null,
      "outputs": []
    },
    {
      "cell_type": "code",
      "source": [],
      "metadata": {
        "id": "zcEJlQs76T_x"
      },
      "execution_count": null,
      "outputs": []
    },
    {
      "cell_type": "code",
      "source": [
        "num_str = \"100\"\n",
        "f_num = 3.142\n",
        "zero = 0\n",
        "sstr1 = \"\"\n",
        "sstr2 = \" \"\n",
        "\n",
        "print(bool(num_str))\n",
        "print(bool(f_num))\n",
        "print(bool(zero))\n",
        "print(bool(sstr1))\n",
        "print(bool(sstr2))"
      ],
      "metadata": {
        "id": "42JS38je6u36"
      },
      "execution_count": null,
      "outputs": []
    },
    {
      "cell_type": "code",
      "source": [
        "result = int(\"20\") + 5\n",
        "print(result)"
      ],
      "metadata": {
        "id": "DvfCpRG962mW"
      },
      "execution_count": null,
      "outputs": []
    },
    {
      "cell_type": "code",
      "source": [
        "a = 10\n",
        "b = 3\n",
        "c = 10.5\n",
        "d = 3.5\n",
        "\n",
        "print(a+b)\n",
        "print(a-b)\n",
        "print(a*b)\n",
        "print(a/b)\n",
        "print(c**d)\n",
        "print(c//d)"
      ],
      "metadata": {
        "id": "mDxlBTBI7K8m"
      },
      "execution_count": null,
      "outputs": []
    },
    {
      "cell_type": "code",
      "source": [
        "str1 = \"Hello\"\n",
        "str2 = \"Alien\"\n",
        "\n",
        "r1 = str1 +\" \"+ str2\n",
        "print(r1)\n",
        "\n",
        "r2 = \" \".join([str1,str2,\"IPL\"])\n",
        "print(r2)\n",
        "r3 = \"@\" + r2 +\"!\"\n",
        "print(r3)"
      ],
      "metadata": {
        "id": "krKPz0zN8QnE"
      },
      "execution_count": null,
      "outputs": []
    }
  ]
}