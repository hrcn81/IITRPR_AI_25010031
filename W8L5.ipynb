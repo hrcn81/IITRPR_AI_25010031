{
  "nbformat": 4,
  "nbformat_minor": 0,
  "metadata": {
    "colab": {
      "private_outputs": true,
      "provenance": [],
      "authorship_tag": "ABX9TyOa2c/6CnME3LCFLBwQouJD",
      "include_colab_link": true
    },
    "kernelspec": {
      "name": "python3",
      "display_name": "Python 3"
    },
    "language_info": {
      "name": "python"
    }
  },
  "cells": [
    {
      "cell_type": "markdown",
      "metadata": {
        "id": "view-in-github",
        "colab_type": "text"
      },
      "source": [
        "<a href=\"https://colab.research.google.com/github/hrcn81/IITRPR_AI_25010031/blob/main/W8L5.ipynb\" target=\"_parent\"><img src=\"https://colab.research.google.com/assets/colab-badge.svg\" alt=\"Open In Colab\"/></a>"
      ]
    },
    {
      "cell_type": "code",
      "execution_count": null,
      "metadata": {
        "id": "3jbrJpxjKL7D"
      },
      "outputs": [],
      "source": [
        "# Python Function\n",
        "\n",
        "\"\"\"\n",
        "\n",
        "A block of code that performs a specific task\n",
        "\n",
        "\"\"\""
      ]
    },
    {
      "cell_type": "code",
      "source": [
        "# Create a Function\n",
        "\n",
        "def greet():\n",
        "    print(\"Hello World!\")"
      ],
      "metadata": {
        "id": "4DDIsbHxKXP_"
      },
      "execution_count": null,
      "outputs": []
    },
    {
      "cell_type": "code",
      "source": [
        "# Calling a function\n",
        "\n",
        "greet()"
      ],
      "metadata": {
        "id": "GskljKfXKYoM"
      },
      "execution_count": null,
      "outputs": []
    },
    {
      "cell_type": "code",
      "source": [
        "def greet(name):\n",
        "    print('Hello',name)\n",
        "\n",
        "greet('Mayank')"
      ],
      "metadata": {
        "id": "gMZEuFAkKaXm"
      },
      "execution_count": null,
      "outputs": []
    },
    {
      "cell_type": "code",
      "source": [
        "def add_numbers(num1,num2):\n",
        "    sum = num1 + num2\n",
        "    print('Sum:',sum)\n",
        "\n",
        "add_numbers(10,20)"
      ],
      "metadata": {
        "id": "FCjMhTyVKoWX"
      },
      "execution_count": null,
      "outputs": []
    },
    {
      "cell_type": "code",
      "source": [],
      "metadata": {
        "id": "I6fsFvAjK0iD"
      },
      "execution_count": null,
      "outputs": []
    }
  ]
}