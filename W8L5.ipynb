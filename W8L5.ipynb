{
  "nbformat": 4,
  "nbformat_minor": 0,
  "metadata": {
    "colab": {
      "private_outputs": true,
      "provenance": [],
      "mount_file_id": "1yAZ3oFnIZZ3v5Nlhp0V9RwbNOxSX4gcm",
      "authorship_tag": "ABX9TyM0Y/eYJ2loNm1+rzvvWg+y",
      "include_colab_link": true
    },
    "kernelspec": {
      "name": "python3",
      "display_name": "Python 3"
    },
    "language_info": {
      "name": "python"
    }
  },
  "cells": [
    {
      "cell_type": "markdown",
      "metadata": {
        "id": "view-in-github",
        "colab_type": "text"
      },
      "source": [
        "<a href=\"https://colab.research.google.com/github/hrcn81/IITRPR_AI_25010031/blob/main/W8L5.ipynb\" target=\"_parent\"><img src=\"https://colab.research.google.com/assets/colab-badge.svg\" alt=\"Open In Colab\"/></a>"
      ]
    },
    {
      "cell_type": "code",
      "execution_count": null,
      "metadata": {
        "id": "-vrnshCWIN1K"
      },
      "outputs": [],
      "source": [
        "# Python Function\n",
        "\n",
        "\"\"\"\n",
        "\n",
        "A block of code that performs a specific task\n",
        "\n",
        "\"\"\""
      ]
    },
    {
      "cell_type": "code",
      "source": [
        "# Create a Function\n",
        "\n",
        "def greet():\n",
        "    print(\"Hello World!\")"
      ],
      "metadata": {
        "id": "lKEpWw27JH5S"
      },
      "execution_count": null,
      "outputs": []
    },
    {
      "cell_type": "code",
      "source": [
        "# Calling a function\n",
        "\n",
        "greet()"
      ],
      "metadata": {
        "id": "SDFjtdMpJrfm"
      },
      "execution_count": null,
      "outputs": []
    },
    {
      "cell_type": "code",
      "source": [],
      "metadata": {
        "id": "BgSdM4e1Ju0O"
      },
      "execution_count": null,
      "outputs": []
    }
  ]
}