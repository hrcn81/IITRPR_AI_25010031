{
  "nbformat": 4,
  "nbformat_minor": 0,
  "metadata": {
    "colab": {
      "private_outputs": true,
      "provenance": [],
      "authorship_tag": "ABX9TyPBB31RgnFowATmRETaq+n0",
      "include_colab_link": true
    },
    "kernelspec": {
      "name": "python3",
      "display_name": "Python 3"
    },
    "language_info": {
      "name": "python"
    }
  },
  "cells": [
    {
      "cell_type": "markdown",
      "metadata": {
        "id": "view-in-github",
        "colab_type": "text"
      },
      "source": [
        "<a href=\"https://colab.research.google.com/github/hrcn81/IITRPR_AI_25010031/blob/main/IITRPR_02_27_01_2025.ipynb\" target=\"_parent\"><img src=\"https://colab.research.google.com/assets/colab-badge.svg\" alt=\"Open In Colab\"/></a>"
      ]
    },
    {
      "cell_type": "code",
      "execution_count": null,
      "metadata": {
        "id": "Twm4VPlnQTy9"
      },
      "outputs": [],
      "source": [
        "# Write python program to sdisplay number from 1 to 100\n",
        "\n",
        "for i in range(1,100+1):\n",
        "    print(i,end= ' ')"
      ]
    },
    {
      "cell_type": "code",
      "source": [
        "# prompt: python program to write 1 to 100\n",
        "\n",
        "# Write python program to sdisplay number from 1 to 100\n",
        "\n",
        "for i in range(1,100+1):\n",
        "    print(i,end= ' ')"
      ],
      "metadata": {
        "id": "AfL-IfNBQkWK"
      },
      "execution_count": null,
      "outputs": []
    },
    {
      "cell_type": "code",
      "source": [
        "# prompt: print number 100 to 1\n",
        "\n",
        "for i in range(100, 0, -1):\n",
        "    print(i, end=' ')\n"
      ],
      "metadata": {
        "id": "xsAof3SAQ2m2"
      },
      "execution_count": null,
      "outputs": []
    },
    {
      "cell_type": "code",
      "source": [
        "# prompt: print table of 2 in form of 2 x 1 = 2 also aligh numbers\n",
        "\n",
        "for i in range(1, 11):\n",
        "  print(f\"2 x {i:2} = {2*i:2}\")"
      ],
      "metadata": {
        "id": "CBUAShQEQ7_Q"
      },
      "execution_count": null,
      "outputs": []
    },
    {
      "cell_type": "code",
      "source": [
        "# prompt: print program to give even number from 1 to 10\n",
        "\n",
        "for i in range(2, 11, 2):\n",
        "# i\n",
        "  print(i)"
      ],
      "metadata": {
        "id": "gdF81CpRRMSM"
      },
      "execution_count": null,
      "outputs": []
    },
    {
      "cell_type": "code",
      "source": [],
      "metadata": {
        "id": "dBGaN61SSQ8H"
      },
      "execution_count": null,
      "outputs": []
    }
  ]
}