{
  "nbformat": 4,
  "nbformat_minor": 0,
  "metadata": {
    "colab": {
      "private_outputs": true,
      "provenance": [],
      "authorship_tag": "ABX9TyOcC/pA3xAd94HQa5OsOLUT",
      "include_colab_link": true
    },
    "kernelspec": {
      "name": "python3",
      "display_name": "Python 3"
    },
    "language_info": {
      "name": "python"
    }
  },
  "cells": [
    {
      "cell_type": "markdown",
      "metadata": {
        "id": "view-in-github",
        "colab_type": "text"
      },
      "source": [
        "<a href=\"https://colab.research.google.com/github/hrcn81/IITRPR_AI_25010031/blob/main/IITRPR_02_27_01_2025.ipynb\" target=\"_parent\"><img src=\"https://colab.research.google.com/assets/colab-badge.svg\" alt=\"Open In Colab\"/></a>"
      ]
    },
    {
      "cell_type": "code",
      "execution_count": null,
      "metadata": {
        "id": "Twm4VPlnQTy9"
      },
      "outputs": [],
      "source": [
        "# Write python program to sdisplay number from 1 to 100\n",
        "\n",
        "for i in range(1,100+1):\n",
        "    print(i,end= ' ')"
      ]
    },
    {
      "cell_type": "code",
      "source": [
        "# prompt: python program to write 1 to 100\n",
        "\n",
        "# Write python program to sdisplay number from 1 to 100\n",
        "\n",
        "for i in range(1,100+1):\n",
        "    print(i,end= ' ')"
      ],
      "metadata": {
        "id": "AfL-IfNBQkWK"
      },
      "execution_count": null,
      "outputs": []
    },
    {
      "cell_type": "code",
      "source": [
        "# prompt: print number 100 to 1\n",
        "\n",
        "for i in range(100, 0, -1):\n",
        "    print(i, end=' ')\n"
      ],
      "metadata": {
        "id": "xsAof3SAQ2m2"
      },
      "execution_count": null,
      "outputs": []
    },
    {
      "cell_type": "code",
      "source": [
        "# prompt: print table of 2 in form of 2 x 1 = 2 also aligh numbers\n",
        "\n",
        "for i in range(1, 11):\n",
        "  print(f\"2 x {i:2} = {2*i:2}\")"
      ],
      "metadata": {
        "id": "CBUAShQEQ7_Q"
      },
      "execution_count": null,
      "outputs": []
    },
    {
      "cell_type": "code",
      "source": [
        "# prompt: print program to give even number from 1 to 10\n",
        "\n",
        "for i in range(2, 11, 2):\n",
        "# i\n",
        "  print(i)"
      ],
      "metadata": {
        "id": "gdF81CpRRMSM"
      },
      "execution_count": null,
      "outputs": []
    },
    {
      "cell_type": "code",
      "source": [
        "# prompt: take dd mm yyyy and saperately tell me the day like let me enter dd firsst and then ask for mm and after that yyyy\n",
        "\n",
        "import datetime\n",
        "\n",
        "def get_day_of_week():\n",
        "    while True:\n",
        "        try:\n",
        "            dd = int(input(\"Enter the day (dd): \"))\n",
        "            if not (1 <= dd <= 31):\n",
        "                print(\"Invalid day. Please enter a day between 1 and 31.\")\n",
        "                continue\n",
        "            break\n",
        "        except ValueError:\n",
        "            print(\"Invalid input. Please enter a valid integer for the day.\")\n",
        "\n",
        "    while True:\n",
        "        try:\n",
        "            mm = int(input(\"Enter the month (mm): \"))\n",
        "            if not (1 <= mm <= 12):\n",
        "                print(\"Invalid month. Please enter a month between 1 and 12.\")\n",
        "                continue\n",
        "            break\n",
        "        except ValueError:\n",
        "            print(\"Invalid input. Please enter a valid integer for the month.\")\n",
        "\n",
        "    while True:\n",
        "        try:\n",
        "            yyyy = int(input(\"Enter the year (yyyy): \"))\n",
        "            if yyyy < 1:\n",
        "                print(\"Invalid year. Please enter a year greater than 0.\")\n",
        "                continue\n",
        "            break\n",
        "        except ValueError:\n",
        "            print(\"Invalid input. Please enter a valid integer for the year.\")\n",
        "\n",
        "    try:\n",
        "        date_obj = datetime.date(yyyy, mm, dd)\n",
        "        day_of_week = date_obj.strftime(\"%A\")\n",
        "        print(f\"The day of the week for {dd}/{mm}/{yyyy} is: {day_of_week}\")\n",
        "    except ValueError:\n",
        "        print(\"Invalid date. Please check your input.\")\n",
        "\n",
        "get_day_of_week()"
      ],
      "metadata": {
        "id": "bnwGyfXlUStM"
      },
      "execution_count": null,
      "outputs": []
    },
    {
      "cell_type": "code",
      "source": [
        "# prompt: ask user to enter his name and display all the letters in it by removing all repeated letters\n",
        "\n",
        "def remove_duplicate_letters(name):\n",
        "    seen_letters = set()\n",
        "    result = \"\"\n",
        "    for letter in name:\n",
        "        if letter.lower() not in seen_letters:\n",
        "            result += letter\n",
        "            seen_letters.add(letter.lower())\n",
        "    return result\n",
        "\n",
        "user_name = input(\"Enter your name: \")\n",
        "unique_letters = remove_duplicate_letters(user_name)\n",
        "print(\"Letters in your name (without duplicates):\", unique_letters)"
      ],
      "metadata": {
        "id": "zImDqHwRVGag"
      },
      "execution_count": null,
      "outputs": []
    },
    {
      "cell_type": "code",
      "source": [
        "# prompt: give me count of permutations of my entered numbers or characters\n",
        "\n",
        "import itertools\n",
        "\n",
        "def count_permutations(input_string):\n",
        "    \"\"\"\n",
        "    Counts the number of permutations of a given string.\n",
        "\n",
        "    Args:\n",
        "      input_string: The string for which to count permutations.\n",
        "\n",
        "    Returns:\n",
        "      The number of permutations.\n",
        "    \"\"\"\n",
        "\n",
        "    return len(list(itertools.permutations(input_string)))\n",
        "\n",
        "# Get input from the user\n",
        "input_str = input(\"Enter the characters or numbers: \")\n",
        "\n",
        "# Calculate and print the number of permutations\n",
        "num_permutations = count_permutations(input_str)\n",
        "print(\"Number of permutations:\", num_permutations)"
      ],
      "metadata": {
        "id": "vVgYFYGRWE1h"
      },
      "execution_count": null,
      "outputs": []
    },
    {
      "cell_type": "code",
      "source": [],
      "metadata": {
        "id": "8b7nl2W9WOfg"
      },
      "execution_count": null,
      "outputs": []
    }
  ]
}