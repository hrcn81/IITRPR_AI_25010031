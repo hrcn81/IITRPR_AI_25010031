{
  "nbformat": 4,
  "nbformat_minor": 0,
  "metadata": {
    "colab": {
      "private_outputs": true,
      "provenance": [],
      "mount_file_id": "1loBfofbN_-WhUsij70QtEPDZ0YfFFDhG",
      "authorship_tag": "ABX9TyMSwObUEvQpXofBbDPHz6VE",
      "include_colab_link": true
    },
    "kernelspec": {
      "name": "python3",
      "display_name": "Python 3"
    },
    "language_info": {
      "name": "python"
    }
  },
  "cells": [
    {
      "cell_type": "markdown",
      "metadata": {
        "id": "view-in-github",
        "colab_type": "text"
      },
      "source": [
        "<a href=\"https://colab.research.google.com/github/hrcn81/IITRPR_AI_25010031/blob/main/W6L2.ipynb\" target=\"_parent\"><img src=\"https://colab.research.google.com/assets/colab-badge.svg\" alt=\"Open In Colab\"/></a>"
      ]
    },
    {
      "cell_type": "code",
      "execution_count": null,
      "metadata": {
        "id": "RpuCKBnFoeVZ"
      },
      "outputs": [],
      "source": [
        "import matplotlib.pyplot as plt\n",
        "import pandas as pd"
      ]
    },
    {
      "cell_type": "code",
      "source": [
        "df = pd.read_csv(\"https://raw.githubusercontent.com/hrcn81/IITRPR_AI_25010031/1bdc1c6b03be8c86835898229ac107b1e6bf66bd/Datasets/daily_steps.csv\")"
      ],
      "metadata": {
        "id": "9cagqlP_oiPp"
      },
      "execution_count": null,
      "outputs": []
    },
    {
      "cell_type": "code",
      "source": [
        "plt.figure(figsize=(10,5))\n",
        "datasets = [1,2,3,4,5]\n",
        "\n",
        "acc_model_a = [85,88,90,87,92]\n",
        "acc_model_b = [80,83,85,87,90]\n",
        "\n",
        "plt.subplot(1,2,1)\n",
        "plt.plot(datasets,acc_model_a,marker = 'o',linestyle='-',color='orangered',label='Model A')\n",
        "# plt.plot(datasets,acc_model_b,marker = 's',linestyle='-',color='blue',label='Model B')\n",
        "plt.xlabel('Dataset')\n",
        "plt.ylabel('Accuracy')\n",
        "plt.title('Model Accuracy')\n",
        "plt.ylim(auto = True)\n",
        "plt.grid()\n",
        "plt.legend()\n",
        "\n",
        "plt.subplot(1,2,2)\n",
        "plt.plot(datasets,acc_model_b,marker = 's',linestyle='-',color='blue',label='Model B')\n",
        "plt.xlabel('Dataset')\n",
        "plt.ylabel('Accuracy')\n",
        "plt.title('Model Accuracy')\n",
        "plt.ylim(auto = True)\n",
        "plt.grid()\n",
        "plt.legend()\n",
        "\n",
        "plt.tight_layout()\n",
        "\n",
        "plt.show()"
      ],
      "metadata": {
        "id": "wynyv4xhqs85"
      },
      "execution_count": null,
      "outputs": []
    },
    {
      "cell_type": "code",
      "source": [],
      "metadata": {
        "id": "-HWKmpVzrXVY"
      },
      "execution_count": null,
      "outputs": []
    }
  ]
}