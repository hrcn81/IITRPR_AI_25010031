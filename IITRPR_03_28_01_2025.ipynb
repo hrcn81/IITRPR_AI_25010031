{
  "nbformat": 4,
  "nbformat_minor": 0,
  "metadata": {
    "colab": {
      "private_outputs": true,
      "provenance": [],
      "authorship_tag": "ABX9TyMPSu2V6OxO6xH1yAx8kKkZ",
      "include_colab_link": true
    },
    "kernelspec": {
      "name": "python3",
      "display_name": "Python 3"
    },
    "language_info": {
      "name": "python"
    }
  },
  "cells": [
    {
      "cell_type": "markdown",
      "metadata": {
        "id": "view-in-github",
        "colab_type": "text"
      },
      "source": [
        "<a href=\"https://colab.research.google.com/github/hrcn81/IITRPR_AI_25010031/blob/main/IITRPR_03_28_01_2025.ipynb\" target=\"_parent\"><img src=\"https://colab.research.google.com/assets/colab-badge.svg\" alt=\"Open In Colab\"/></a>"
      ]
    },
    {
      "cell_type": "code",
      "execution_count": null,
      "metadata": {
        "id": "XODuMD3zW0Sh"
      },
      "outputs": [],
      "source": [
        "# prompt: write me list with 10 random numbers in it then print it\n",
        "\n",
        "import random\n",
        "\n",
        "random_numbers = []\n",
        "for _ in range(10):\n",
        "  random_numbers.append(random.randint(1, 100)) # Generates random integers between 1 and 100 (inclusive)\n",
        "\n",
        "random_numbers\n"
      ]
    },
    {
      "cell_type": "code",
      "source": [
        "# prompt: write me list where the first two numbers are 1 and 2. the third number is sum of first and second.the forth number is sum of previous 3 numbers keep doing this till 10 numbers and print it make a function\n",
        "\n",
        "def generate_list(x):\n",
        "  num_list = [1, 2]\n",
        "  for i in range(2, x):\n",
        "    num_list.append(sum(num_list[i-2:i]))\n",
        "  return num_list\n",
        "\n",
        "n = int(input('Enter number till : '))\n",
        "print(generate_list(n))"
      ],
      "metadata": {
        "id": "oj4MyiH2XCZZ"
      },
      "execution_count": null,
      "outputs": []
    },
    {
      "cell_type": "code",
      "source": [
        "# prompt: make list of dynamic numbers which adds their all previous\n",
        "\n",
        "import random\n",
        "\n",
        "\n",
        "def generate_list(x):\n",
        "  if x <= 0:\n",
        "    return []\n",
        "  elif x == 1:\n",
        "    return [1]\n",
        "  else:\n",
        "    num_list = [1, 2]\n",
        "    for i in range(2, x):\n",
        "      num_list.append(sum(num_list[i-2:i]))\n",
        "    return num_list\n",
        "\n",
        "n = int(input('Enter number till : '))\n",
        "print(generate_list(n))"
      ],
      "metadata": {
        "id": "ZDCIoJd5XZiX"
      },
      "execution_count": null,
      "outputs": []
    },
    {
      "cell_type": "code",
      "source": [
        "# prompt: make list of 5 random number and other list with added one\n",
        "\n",
        "import random\n",
        "\n",
        "# Generate a list of 5 random numbers\n",
        "random_list = [random.randint(1, 100) for _ in range(5)]\n",
        "\n",
        "# Create a new list with each element incremented by 1\n",
        "incremented_list = [num + 1 for num in random_list]\n",
        "\n",
        "print(\"Original list:\", random_list)\n",
        "print(\"Incremented list:\", incremented_list)"
      ],
      "metadata": {
        "id": "Uw7lVOElYCO0"
      },
      "execution_count": null,
      "outputs": []
    },
    {
      "cell_type": "code",
      "source": [
        "# prompt: read name from the user\n",
        "\n",
        "name = input(\"Enter your name: \")\n",
        "print(\"Hello, \" + name + \"!\")"
      ],
      "metadata": {
        "id": "iyiV2Y7oY1LK"
      },
      "execution_count": null,
      "outputs": []
    },
    {
      "cell_type": "code",
      "source": [
        "# prompt: read name and read marks on 3 subjects also give overall grade\n",
        "\n",
        "def calculate_grade(marks):\n",
        "  if marks >= 90:\n",
        "    return \"A\"\n",
        "  elif marks >= 80:\n",
        "    return \"B\"\n",
        "  elif marks >= 70:\n",
        "    return \"C\"\n",
        "  elif marks >= 60:\n",
        "    return \"D\"\n",
        "  else:\n",
        "    return \"F\"\n",
        "\n",
        "name = input(\"Enter student's name: \")\n",
        "try:\n",
        "  subject1 = int(input(\"Enter marks for subject 1: \"))\n",
        "  subject2 = int(input(\"Enter marks for subject 2: \"))\n",
        "  subject3 = int(input(\"Enter marks for subject 3: \"))\n",
        "except ValueError:\n",
        "  print(\"Invalid input. Please enter numbers for marks.\")\n",
        "else:\n",
        "  total_marks = subject1 + subject2 + subject3\n",
        "  average_marks = total_marks / 3\n",
        "  overall_grade = calculate_grade(average_marks)\n",
        "\n",
        "  print(\"\\n--- Student Details ---\")\n",
        "  print(\"Name:\", name)\n",
        "  print(\"Subject 1 Marks:\", subject1)\n",
        "  print(\"Subject 2 Marks:\", subject2)\n",
        "  print(\"Subject 3 Marks:\", subject3)\n",
        "  print(\"Total Marks:\", total_marks)\n",
        "  print(\"Average Marks:\", average_marks)\n",
        "  print(\"Overall Grade:\", overall_grade)"
      ],
      "metadata": {
        "id": "NbGcGI8aajyr"
      },
      "execution_count": null,
      "outputs": []
    },
    {
      "cell_type": "code",
      "source": [
        "# prompt: read name and read marks on 3 subjects also give overall grade also give some instruction to improve the marks and if marks are less than 35 declare fail and also give notice to meet principal with parents\n",
        "\n",
        "def calculate_grade(marks):\n",
        "  if marks >= 90:\n",
        "    return \"A\"\n",
        "  elif marks >= 80:\n",
        "    return \"B\"\n",
        "  elif marks >= 70:\n",
        "    return \"C\"\n",
        "  elif marks >= 60:\n",
        "    return \"D\"\n",
        "  else:\n",
        "    return \"F\"\n",
        "\n",
        "def generate_improvement_tips(subject, marks):\n",
        "    if subject == \"math\":\n",
        "      if marks < 60:\n",
        "        return \"Focus on fundamental concepts. Practice more problems and seek help from teachers or tutors.\"\n",
        "      elif marks < 80:\n",
        "          return \"Practice more advanced problems. Explore challenging concepts.\"\n",
        "    elif subject == \"science\":\n",
        "        if marks < 60:\n",
        "            return \"Review basic scientific principles. Conduct more experiments and pay attention in class.\"\n",
        "        elif marks < 80:\n",
        "          return \"Explore advanced scientific topics and concepts.\"\n",
        "    elif subject == \"english\":\n",
        "        if marks < 60:\n",
        "            return \"Practice reading comprehension and writing skills. Improve vocabulary and grammar.\"\n",
        "        elif marks < 80:\n",
        "            return \"Focus on creative writing and advanced literature. Enhance vocabulary and writing style.\"\n",
        "    return \"Excellent work! Maintain this level of performance\"\n",
        "\n",
        "name = input(\"Enter student's name: \")\n",
        "try:\n",
        "  subject1_marks = int(input(\"Enter marks for Math (out of 100): \"))\n",
        "  subject2_marks = int(input(\"Enter marks for Science (out of 100): \"))\n",
        "  subject3_marks = int(input(\"Enter marks for English (out of 100): \"))\n",
        "except ValueError:\n",
        "  print(\"Invalid input. Please enter numbers for marks.\")\n",
        "else:\n",
        "  total_marks = subject1_marks + subject2_marks + subject3_marks\n",
        "  average_marks = total_marks / 3\n",
        "  overall_grade = calculate_grade(average_marks)\n",
        "\n",
        "  print(\"\\n--- Student Details ---\")\n",
        "  print(\"Name:\", name)\n",
        "  print(\"Math Marks:\", subject1_marks)\n",
        "  print(\"Science Marks:\", subject2_marks)\n",
        "  print(\"English Marks:\", subject3_marks)\n",
        "  print(\"Total Marks:\", total_marks)\n",
        "  print(\"Average Marks:\", average_marks)\n",
        "  print(\"Overall Grade:\", overall_grade)\n",
        "\n",
        "  print(\"\\n--- Improvement Tips ---\")\n",
        "  print(\"Math:\", generate_improvement_tips(\"math\", subject1_marks))\n",
        "  print(\"Science:\", generate_improvement_tips(\"science\", subject2_marks))\n",
        "  print(\"English:\", generate_improvement_tips(\"english\", subject3_marks))\n",
        "\n",
        "  if subject1_marks < 35 or subject2_marks < 35 or subject3_marks < 35:\n",
        "    print(\"\\n--- Notice ---\")\n",
        "    print(\"Fail! You have not met the minimum passing marks in one or more subjects. Please meet the principal with your parents to discuss your performance.\")"
      ],
      "metadata": {
        "id": "XwhN127waqkM"
      },
      "execution_count": null,
      "outputs": []
    },
    {
      "cell_type": "code",
      "source": [
        "# prompt: make game of rock paper scissor and also explain the code in comments\n",
        "\n",
        "import random\n",
        "\n",
        "def play_rock_paper_scissors():\n",
        "  \"\"\"Plays a game of Rock Paper Scissors against the computer.\"\"\"\n",
        "\n",
        "  # Define possible choices\n",
        "  choices = [\"rock\", \"paper\", \"scissors\"]\n",
        "\n",
        "  # Get user's choice\n",
        "  while True:\n",
        "    user_choice = input(\"Enter your choice (rock, paper, scissors): \").lower()\n",
        "    if user_choice in choices:\n",
        "      break\n",
        "    else:\n",
        "      print(\"Invalid choice. Please try again.\")\n",
        "\n",
        "  # Generate computer's choice randomly\n",
        "  computer_choice = random.choice(choices)\n",
        "  print(f\"Computer chose: {computer_choice}\")\n",
        "\n",
        "  # Determine the winner\n",
        "  if user_choice == computer_choice:\n",
        "    print(\"It's a tie!\")\n",
        "  elif (user_choice == \"rock\" and computer_choice == \"scissors\") or \\\n",
        "       (user_choice == \"paper\" and computer_choice == \"rock\") or \\\n",
        "       (user_choice == \"scissors\" and computer_choice == \"paper\"):\n",
        "    print(\"You win!\")\n",
        "  else:\n",
        "    print(\"You lose!\")\n",
        "\n",
        "# Start the game\n",
        "play_rock_paper_scissors()"
      ],
      "metadata": {
        "id": "dyNDdmAFbwj6"
      },
      "execution_count": null,
      "outputs": []
    },
    {
      "cell_type": "code",
      "source": [
        "# prompt: make game of rock paper scissor and also explain the code in comments make it repeatation as user asks times and ask user to enter number like for rock 1,for paper 2 so on\n",
        "\n",
        "import random\n",
        "\n",
        "def play_rock_paper_scissors():\n",
        "  \"\"\"Plays a game of Rock Paper Scissors against the computer.\"\"\"\n",
        "\n",
        "  # Define possible choices with numerical representation\n",
        "  choices = {1: \"rock\", 2: \"paper\", 3: \"scissors\"}\n",
        "\n",
        "  while True:\n",
        "    try:\n",
        "      # Get user's choice with numerical input\n",
        "      user_choice_num = int(input(\"Enter your choice (1 for Rock, 2 for Paper, 3 for Scissors): \"))\n",
        "      if user_choice_num in choices:\n",
        "        user_choice = choices[user_choice_num]\n",
        "        break  # Exit the loop if the input is valid\n",
        "      else:\n",
        "        print(\"Invalid choice. Please enter 1, 2, or 3.\")\n",
        "    except ValueError:\n",
        "        print(\"Invalid input. Please enter a number.\")\n",
        "\n",
        "\n",
        "  # Generate computer's choice randomly\n",
        "  computer_choice_num = random.randint(1, 3)\n",
        "  computer_choice = choices[computer_choice_num]\n",
        "  print(f\"Computer chose: {computer_choice}\")\n",
        "\n",
        "  # Determine the winner\n",
        "  if user_choice == computer_choice:\n",
        "    print(\"It's a tie!\")\n",
        "  elif (user_choice == \"rock\" and computer_choice == \"scissors\") or \\\n",
        "       (user_choice == \"paper\" and computer_choice == \"rock\") or \\\n",
        "       (user_choice == \"scissors\" and computer_choice == \"paper\"):\n",
        "    print(\"You win!\")\n",
        "  else:\n",
        "    print(\"You lose!\")\n",
        "\n",
        "# Main game loop for repetitions\n",
        "while True:\n",
        "  play_rock_paper_scissors()\n",
        "  play_again = input(\"Play again? (yes/no): \").lower()\n",
        "  if play_again != \"yes\":\n",
        "    break"
      ],
      "metadata": {
        "id": "kHR7lAmscw2Z"
      },
      "execution_count": null,
      "outputs": []
    },
    {
      "cell_type": "code",
      "source": [
        "color = \"blue\"\n",
        "if color == \"red\":\n",
        "    print(\"The color is red\")\n",
        "else:\n",
        "    print(\"The color is not red\")"
      ],
      "metadata": {
        "id": "YzbQbIyjgmuB"
      },
      "execution_count": null,
      "outputs": []
    },
    {
      "cell_type": "code",
      "source": [],
      "metadata": {
        "id": "lEdzDJnRhGpT"
      },
      "execution_count": null,
      "outputs": []
    }
  ]
}