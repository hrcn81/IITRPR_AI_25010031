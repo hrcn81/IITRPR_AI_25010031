{
  "nbformat": 4,
  "nbformat_minor": 0,
  "metadata": {
    "colab": {
      "private_outputs": true,
      "provenance": [],
      "authorship_tag": "ABX9TyM7+hIV7SJCA8GCDZUSulO5",
      "include_colab_link": true
    },
    "kernelspec": {
      "name": "python3",
      "display_name": "Python 3"
    },
    "language_info": {
      "name": "python"
    }
  },
  "cells": [
    {
      "cell_type": "markdown",
      "metadata": {
        "id": "view-in-github",
        "colab_type": "text"
      },
      "source": [
        "<a href=\"https://colab.research.google.com/github/hrcn81/IITRPR_AI_25010031/blob/main/IITRPR_03_28_01_2025.ipynb\" target=\"_parent\"><img src=\"https://colab.research.google.com/assets/colab-badge.svg\" alt=\"Open In Colab\"/></a>"
      ]
    },
    {
      "cell_type": "code",
      "execution_count": null,
      "metadata": {
        "id": "XODuMD3zW0Sh"
      },
      "outputs": [],
      "source": [
        "# prompt: write me list with 10 random numbers in it then print it\n",
        "\n",
        "import random\n",
        "\n",
        "random_numbers = []\n",
        "for _ in range(10):\n",
        "  random_numbers.append(random.randint(1, 100)) # Generates random integers between 1 and 100 (inclusive)\n",
        "\n",
        "random_numbers\n"
      ]
    },
    {
      "cell_type": "code",
      "source": [],
      "metadata": {
        "id": "oj4MyiH2XCZZ"
      },
      "execution_count": null,
      "outputs": []
    }
  ]
}