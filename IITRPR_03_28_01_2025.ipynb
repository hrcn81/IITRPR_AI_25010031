{
  "nbformat": 4,
  "nbformat_minor": 0,
  "metadata": {
    "colab": {
      "private_outputs": true,
      "provenance": [],
      "authorship_tag": "ABX9TyOq660HrXTmcTE0rAWD6SR6",
      "include_colab_link": true
    },
    "kernelspec": {
      "name": "python3",
      "display_name": "Python 3"
    },
    "language_info": {
      "name": "python"
    }
  },
  "cells": [
    {
      "cell_type": "markdown",
      "metadata": {
        "id": "view-in-github",
        "colab_type": "text"
      },
      "source": [
        "<a href=\"https://colab.research.google.com/github/hrcn81/IITRPR_AI_25010031/blob/main/IITRPR_03_28_01_2025.ipynb\" target=\"_parent\"><img src=\"https://colab.research.google.com/assets/colab-badge.svg\" alt=\"Open In Colab\"/></a>"
      ]
    },
    {
      "cell_type": "code",
      "execution_count": null,
      "metadata": {
        "id": "XODuMD3zW0Sh"
      },
      "outputs": [],
      "source": [
        "# prompt: write me list with 10 random numbers in it then print it\n",
        "\n",
        "import random\n",
        "\n",
        "random_numbers = []\n",
        "for _ in range(10):\n",
        "  random_numbers.append(random.randint(1, 100)) # Generates random integers between 1 and 100 (inclusive)\n",
        "\n",
        "random_numbers\n"
      ]
    },
    {
      "cell_type": "code",
      "source": [
        "# prompt: write me list where the first two numbers are 1 and 2. the third number is sum of first and second.the forth number is sum of previous 3 numbers keep doing this till 10 numbers and print it make a function\n",
        "\n",
        "def generate_list(x):\n",
        "  num_list = [1, 2]\n",
        "  for i in range(2, x):\n",
        "    num_list.append(sum(num_list[i-2:i]))\n",
        "  return num_list\n",
        "\n",
        "n = int(input('Enter number till : '))\n",
        "print(generate_list(n))"
      ],
      "metadata": {
        "id": "oj4MyiH2XCZZ"
      },
      "execution_count": null,
      "outputs": []
    },
    {
      "cell_type": "code",
      "source": [
        "# prompt: make list of dynamic numbers which adds their all previous\n",
        "\n",
        "import random\n",
        "\n",
        "\n",
        "def generate_list(x):\n",
        "  if x <= 0:\n",
        "    return []\n",
        "  elif x == 1:\n",
        "    return [1]\n",
        "  else:\n",
        "    num_list = [1, 2]\n",
        "    for i in range(2, x):\n",
        "      num_list.append(sum(num_list[i-2:i]))\n",
        "    return num_list\n",
        "\n",
        "n = int(input('Enter number till : '))\n",
        "print(generate_list(n))"
      ],
      "metadata": {
        "id": "ZDCIoJd5XZiX"
      },
      "execution_count": null,
      "outputs": []
    },
    {
      "cell_type": "code",
      "source": [
        "# prompt: make list of 5 random number and other list with added one\n",
        "\n",
        "import random\n",
        "\n",
        "# Generate a list of 5 random numbers\n",
        "random_list = [random.randint(1, 100) for _ in range(5)]\n",
        "\n",
        "# Create a new list with each element incremented by 1\n",
        "incremented_list = [num + 1 for num in random_list]\n",
        "\n",
        "print(\"Original list:\", random_list)\n",
        "print(\"Incremented list:\", incremented_list)"
      ],
      "metadata": {
        "id": "Uw7lVOElYCO0"
      },
      "execution_count": null,
      "outputs": []
    },
    {
      "cell_type": "code",
      "source": [
        "# prompt: read name from the user\n",
        "\n",
        "name = input(\"Enter your name: \")\n",
        "print(\"Hello, \" + name + \"!\")"
      ],
      "metadata": {
        "id": "iyiV2Y7oY1LK"
      },
      "execution_count": null,
      "outputs": []
    },
    {
      "cell_type": "code",
      "source": [
        "# prompt: read name and read marks on 3 subjects\n",
        "\n",
        "name = input(\"Enter your name: \")\n",
        "print(\"Hello, \" + name + \"!\")\n",
        "\n",
        "marks1 = int(input(\"Enter marks for subject 1: \"))\n",
        "marks2 = int(input(\"Enter marks for subject 2: \"))\n",
        "marks3 = int(input(\"Enter marks for subject 3: \"))\n",
        "\n",
        "total_marks = marks1 + marks2 + marks3\n",
        "average_marks = total_marks / 3\n",
        "\n",
        "print(f\"Name: {name}\")\n",
        "print(f\"Total marks: {total_marks}\")\n",
        "print(f\"Average marks: {average_marks}\")"
      ],
      "metadata": {
        "id": "NbGcGI8aajyr"
      },
      "execution_count": null,
      "outputs": []
    },
    {
      "cell_type": "code",
      "source": [],
      "metadata": {
        "id": "XwhN127waqkM"
      },
      "execution_count": null,
      "outputs": []
    }
  ]
}