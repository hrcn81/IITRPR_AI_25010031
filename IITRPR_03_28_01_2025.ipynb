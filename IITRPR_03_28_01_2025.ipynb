{
  "nbformat": 4,
  "nbformat_minor": 0,
  "metadata": {
    "colab": {
      "private_outputs": true,
      "provenance": [],
      "authorship_tag": "ABX9TyOwrY672H9CO13cYiIeuQVk",
      "include_colab_link": true
    },
    "kernelspec": {
      "name": "python3",
      "display_name": "Python 3"
    },
    "language_info": {
      "name": "python"
    }
  },
  "cells": [
    {
      "cell_type": "markdown",
      "metadata": {
        "id": "view-in-github",
        "colab_type": "text"
      },
      "source": [
        "<a href=\"https://colab.research.google.com/github/hrcn81/IITRPR_AI_25010031/blob/main/IITRPR_03_28_01_2025.ipynb\" target=\"_parent\"><img src=\"https://colab.research.google.com/assets/colab-badge.svg\" alt=\"Open In Colab\"/></a>"
      ]
    },
    {
      "cell_type": "code",
      "execution_count": null,
      "metadata": {
        "id": "XODuMD3zW0Sh"
      },
      "outputs": [],
      "source": [
        "# prompt: write me list with 10 random numbers in it then print it\n",
        "\n",
        "import random\n",
        "\n",
        "random_numbers = []\n",
        "for _ in range(10):\n",
        "  random_numbers.append(random.randint(1, 100)) # Generates random integers between 1 and 100 (inclusive)\n",
        "\n",
        "random_numbers\n"
      ]
    },
    {
      "cell_type": "code",
      "source": [
        "# prompt: write me list where the first two numbers are 1 and 2. the third number is sum of first and second.the forth number is sum of previous 3 numbers keep doing this till 10 numbers and print it make a function\n",
        "\n",
        "def generate_list(x):\n",
        "  num_list = [1, 2]\n",
        "  for i in range(2, x):\n",
        "    num_list.append(sum(num_list[i-2:i]))\n",
        "  return num_list\n",
        "\n",
        "n = int(input('Enter number till : '))\n",
        "print(generate_list(n))"
      ],
      "metadata": {
        "id": "oj4MyiH2XCZZ"
      },
      "execution_count": null,
      "outputs": []
    },
    {
      "cell_type": "code",
      "source": [
        "# prompt: make list of dynamic numbers which adds their all previous\n",
        "\n",
        "import random\n",
        "\n",
        "\n",
        "def generate_list(x):\n",
        "  if x <= 0:\n",
        "    return []\n",
        "  elif x == 1:\n",
        "    return [1]\n",
        "  else:\n",
        "    num_list = [1, 2]\n",
        "    for i in range(2, x):\n",
        "      num_list.append(sum(num_list[i-2:i]))\n",
        "    return num_list\n",
        "\n",
        "n = int(input('Enter number till : '))\n",
        "print(generate_list(n))"
      ],
      "metadata": {
        "id": "ZDCIoJd5XZiX"
      },
      "execution_count": null,
      "outputs": []
    },
    {
      "cell_type": "code",
      "source": [
        "# prompt: make list of 5 random number and other list with added one\n",
        "\n",
        "import random\n",
        "\n",
        "# Generate a list of 5 random numbers\n",
        "random_list = [random.randint(1, 100) for _ in range(5)]\n",
        "\n",
        "# Create a new list with each element incremented by 1\n",
        "incremented_list = [num + 1 for num in random_list]\n",
        "\n",
        "print(\"Original list:\", random_list)\n",
        "print(\"Incremented list:\", incremented_list)"
      ],
      "metadata": {
        "id": "Uw7lVOElYCO0"
      },
      "execution_count": null,
      "outputs": []
    },
    {
      "cell_type": "code",
      "source": [
        "# prompt: read name from the user\n",
        "\n",
        "name = input(\"Enter your name: \")\n",
        "print(\"Hello, \" + name + \"!\")"
      ],
      "metadata": {
        "id": "iyiV2Y7oY1LK"
      },
      "execution_count": null,
      "outputs": []
    },
    {
      "cell_type": "code",
      "source": [
        "# prompt: read name and read marks on 3 subjects also give overall grade\n",
        "\n",
        "def calculate_grade(marks):\n",
        "  if marks >= 90:\n",
        "    return \"A\"\n",
        "  elif marks >= 80:\n",
        "    return \"B\"\n",
        "  elif marks >= 70:\n",
        "    return \"C\"\n",
        "  elif marks >= 60:\n",
        "    return \"D\"\n",
        "  else:\n",
        "    return \"F\"\n",
        "\n",
        "name = input(\"Enter student's name: \")\n",
        "try:\n",
        "  subject1 = int(input(\"Enter marks for subject 1: \"))\n",
        "  subject2 = int(input(\"Enter marks for subject 2: \"))\n",
        "  subject3 = int(input(\"Enter marks for subject 3: \"))\n",
        "except ValueError:\n",
        "  print(\"Invalid input. Please enter numbers for marks.\")\n",
        "else:\n",
        "  total_marks = subject1 + subject2 + subject3\n",
        "  average_marks = total_marks / 3\n",
        "  overall_grade = calculate_grade(average_marks)\n",
        "\n",
        "  print(\"\\n--- Student Details ---\")\n",
        "  print(\"Name:\", name)\n",
        "  print(\"Subject 1 Marks:\", subject1)\n",
        "  print(\"Subject 2 Marks:\", subject2)\n",
        "  print(\"Subject 3 Marks:\", subject3)\n",
        "  print(\"Total Marks:\", total_marks)\n",
        "  print(\"Average Marks:\", average_marks)\n",
        "  print(\"Overall Grade:\", overall_grade)"
      ],
      "metadata": {
        "id": "NbGcGI8aajyr"
      },
      "execution_count": null,
      "outputs": []
    },
    {
      "cell_type": "code",
      "source": [],
      "metadata": {
        "id": "XwhN127waqkM"
      },
      "execution_count": null,
      "outputs": []
    }
  ]
}