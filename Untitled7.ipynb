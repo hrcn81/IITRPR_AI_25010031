{
  "nbformat": 4,
  "nbformat_minor": 0,
  "metadata": {
    "colab": {
      "private_outputs": true,
      "provenance": [],
      "authorship_tag": "ABX9TyOa7qMGEIdIrf3SEvFFMllM",
      "include_colab_link": true
    },
    "kernelspec": {
      "name": "python3",
      "display_name": "Python 3"
    },
    "language_info": {
      "name": "python"
    }
  },
  "cells": [
    {
      "cell_type": "markdown",
      "metadata": {
        "id": "view-in-github",
        "colab_type": "text"
      },
      "source": [
        "<a href=\"https://colab.research.google.com/github/hrcn81/IITRPR_AI_25010031/blob/main/Untitled7.ipynb\" target=\"_parent\"><img src=\"https://colab.research.google.com/assets/colab-badge.svg\" alt=\"Open In Colab\"/></a>"
      ]
    },
    {
      "cell_type": "code",
      "execution_count": null,
      "metadata": {
        "id": "m0_su2ocmrXB"
      },
      "outputs": [],
      "source": [
        "# prompt: give an example of poissons distribution and give graph\n",
        "\n",
        "import numpy as np\n",
        "import matplotlib.pyplot as plt\n",
        "from scipy.stats import poisson\n",
        "\n",
        "# Parameters for the Poisson distribution\n",
        "mu = 3  # Average rate (lambda)\n",
        "\n",
        "# Generate data for the distribution\n",
        "x = np.arange(0, 15)  # Possible number of events\n",
        "y = poisson.pmf(x, mu)\n",
        "\n",
        "# Plot the distribution\n",
        "plt.figure(figsize=(8, 6))\n",
        "plt.plot(x, y, 'bo', ms=8)  # Blue circles\n",
        "plt.vlines(x, 0, y, colors='b', lw=5, alpha=0.5)  # Vertical lines\n",
        "\n",
        "plt.xlabel(\"Number of Events\")\n",
        "plt.ylabel(\"Probability\")\n",
        "plt.title(f\"Poisson Distribution (λ = {mu})\")\n",
        "plt.grid(True)\n",
        "plt.show()\n",
        "\n"
      ]
    },
    {
      "cell_type": "code",
      "source": [],
      "metadata": {
        "id": "cDUrpP2qm-Ud"
      },
      "execution_count": null,
      "outputs": []
    }
  ]
}