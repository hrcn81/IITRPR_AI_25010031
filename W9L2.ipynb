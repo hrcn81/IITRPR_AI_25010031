{
  "nbformat": 4,
  "nbformat_minor": 0,
  "metadata": {
    "colab": {
      "private_outputs": true,
      "provenance": [],
      "authorship_tag": "ABX9TyMLnJFVh7o1t86TFqbcrZqY",
      "include_colab_link": true
    },
    "kernelspec": {
      "name": "python3",
      "display_name": "Python 3"
    },
    "language_info": {
      "name": "python"
    }
  },
  "cells": [
    {
      "cell_type": "markdown",
      "metadata": {
        "id": "view-in-github",
        "colab_type": "text"
      },
      "source": [
        "<a href=\"https://colab.research.google.com/github/hrcn81/IITRPR_AI_25010031/blob/main/W9L2.ipynb\" target=\"_parent\"><img src=\"https://colab.research.google.com/assets/colab-badge.svg\" alt=\"Open In Colab\"/></a>"
      ]
    },
    {
      "cell_type": "code",
      "execution_count": null,
      "metadata": {
        "id": "pvmp24bYtq6s"
      },
      "outputs": [],
      "source": [
        "class Song:\n",
        "    def __init__(self,titleX,artistX):\n",
        "        self.title = titleX\n",
        "        self.artist = artistX\n",
        "\n",
        "\n",
        "\n",
        "song = Song(\"Bones\",\"Style\")\n",
        "# print(song.title)       # Bones\n",
        "# print(song.artist)      # Style\n",
        "# print(song)             # <__main__.Song object at 0x79444a55aa50>"
      ]
    },
    {
      "cell_type": "code",
      "source": [
        "class Song:\n",
        "    def __init__(self,titleX,artistX):\n",
        "        self.title = titleX\n",
        "        self.artist = artistX\n",
        "\n",
        "class Podcast:\n",
        "    def __init__(self,titleX,hostX):\n",
        "        self.title = titleX\n",
        "        self.host = hostX\n",
        "\n",
        "p = Podcast(\"Minor in AI\",\"HS\")\n",
        "\n",
        "# print(p.title)      # Minor in AI\n",
        "# print(p.host)       # HS\n",
        "# print(p)            # <__main__.Podcast object at 0x7b1fa8cb6c50>"
      ],
      "metadata": {
        "id": "UjSUwqvjzjZA"
      },
      "execution_count": null,
      "outputs": []
    },
    {
      "cell_type": "code",
      "source": [],
      "metadata": {
        "id": "b3kt8YOi03K1"
      },
      "execution_count": null,
      "outputs": []
    }
  ]
}