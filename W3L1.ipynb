{
  "nbformat": 4,
  "nbformat_minor": 0,
  "metadata": {
    "colab": {
      "private_outputs": true,
      "provenance": [],
      "mount_file_id": "1iuBkCpxxVxV49ZxoeSflTzkukju8pQmB",
      "authorship_tag": "ABX9TyMqG2f+cJFMeXCF7EWqDWtu",
      "include_colab_link": true
    },
    "kernelspec": {
      "name": "python3",
      "display_name": "Python 3"
    },
    "language_info": {
      "name": "python"
    }
  },
  "cells": [
    {
      "cell_type": "markdown",
      "metadata": {
        "id": "view-in-github",
        "colab_type": "text"
      },
      "source": [
        "<a href=\"https://colab.research.google.com/github/hrcn81/IITRPR_AI_25010031/blob/main/W3L1.ipynb\" target=\"_parent\"><img src=\"https://colab.research.google.com/assets/colab-badge.svg\" alt=\"Open In Colab\"/></a>"
      ]
    },
    {
      "cell_type": "code",
      "execution_count": null,
      "metadata": {
        "id": "nFhNjWkq1qqE"
      },
      "outputs": [],
      "source": [
        "# Steaps to create and write the Text file\n",
        "\n",
        "# 1. Open the file\n",
        "f1 = open('student.txt','w')\n",
        "\n",
        "# 2. Write to the file\n",
        "f1.write(\"Hi! I am learning python.\\n\\nIt's Mayank\")\n",
        "\n",
        "# 3. Close the file\n",
        "f1.close()"
      ]
    },
    {
      "cell_type": "code",
      "source": [
        "# Steps to read a Text file\n",
        "\n",
        "# 1. Open the file\n",
        "f1 = open('student.txt','r')\n",
        "\n",
        "# 2. Read from the file\n",
        "print(f1.read())\n",
        "\n",
        "# 3. Close the file\n",
        "f1.close()"
      ],
      "metadata": {
        "id": "TPHNDiFm1y9k"
      },
      "execution_count": null,
      "outputs": []
    },
    {
      "cell_type": "code",
      "source": [],
      "metadata": {
        "id": "FRAMUyPg2ftA"
      },
      "execution_count": null,
      "outputs": []
    }
  ]
}