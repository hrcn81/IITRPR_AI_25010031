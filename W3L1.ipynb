{
  "nbformat": 4,
  "nbformat_minor": 0,
  "metadata": {
    "colab": {
      "private_outputs": true,
      "provenance": [],
      "mount_file_id": "1iuBkCpxxVxV49ZxoeSflTzkukju8pQmB",
      "authorship_tag": "ABX9TyPe+E9leTz1jaCH4qDFK7lu",
      "include_colab_link": true
    },
    "kernelspec": {
      "name": "python3",
      "display_name": "Python 3"
    },
    "language_info": {
      "name": "python"
    }
  },
  "cells": [
    {
      "cell_type": "markdown",
      "metadata": {
        "id": "view-in-github",
        "colab_type": "text"
      },
      "source": [
        "<a href=\"https://colab.research.google.com/github/hrcn81/IITRPR_AI_25010031/blob/main/W3L1.ipynb\" target=\"_parent\"><img src=\"https://colab.research.google.com/assets/colab-badge.svg\" alt=\"Open In Colab\"/></a>"
      ]
    },
    {
      "cell_type": "code",
      "execution_count": null,
      "metadata": {
        "id": "nFhNjWkq1qqE"
      },
      "outputs": [],
      "source": [
        "# 1. Open the file\n",
        "f1 = open('student.txt','w')\n",
        "\n",
        "# 2. Write to the file\n",
        "f1.write('Hi! I am learning python')\n",
        "\n",
        "# 3. Close the file\n",
        "f1.close()"
      ]
    },
    {
      "cell_type": "code",
      "source": [],
      "metadata": {
        "id": "TPHNDiFm1y9k"
      },
      "execution_count": null,
      "outputs": []
    }
  ]
}